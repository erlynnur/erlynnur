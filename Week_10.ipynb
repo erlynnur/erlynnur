{
  "cells": [
    {
      "cell_type": "markdown",
      "metadata": {
        "id": "view-in-github",
        "colab_type": "text"
      },
      "source": [
        "<a href=\"https://colab.research.google.com/github/erlynnur/erlynnur/blob/main/week_10.ipynb\" target=\"_parent\"><img src=\"https://colab.research.google.com/assets/colab-badge.svg\" alt=\"Open In Colab\"/></a>"
      ]
    },
    {
      "cell_type": "code",
      "execution_count": null,
      "metadata": {
        "colab": {
          "base_uri": "https://localhost:8080/"
        },
        "id": "G0Ue2W6kp1xG",
        "outputId": "12b9d1d8-e88e-4237-def2-1c07622f12c8"
      },
      "outputs": [
        {
          "name": "stdout",
          "output_type": "stream",
          "text": [
            "halooo\n"
          ]
        }
      ],
      "source": [
        "def my_function():\n",
        "  print(\"halooo\")\n",
        "my_function()"
      ]
    },
    {
      "cell_type": "code",
      "execution_count": null,
      "metadata": {
        "colab": {
          "base_uri": "https://localhost:8080/"
        },
        "id": "gHEbzlexqCrd",
        "outputId": "4a85c66d-29fb-4abc-bf4f-74910bcbea47"
      },
      "outputs": [
        {
          "name": "stdout",
          "output_type": "stream",
          "text": [
            "Abimanyu Erlyn\n",
            "Priyo Erlyn\n",
            "Jati Erlyn\n"
          ]
        }
      ],
      "source": [
        "def my_function(fname):\n",
        "  print(fname + \" Erlyn\")\n",
        "\n",
        "my_function(\"Abimanyu\")\n",
        "my_function(\"Priyo\")\n",
        "my_function(\"Jati\")"
      ]
    },
    {
      "cell_type": "code",
      "execution_count": null,
      "metadata": {
        "colab": {
          "base_uri": "https://localhost:8080/"
        },
        "id": "OaMw_HybqWoG",
        "outputId": "c78119c1-669d-44ef-a7f7-3de1667a29c0"
      },
      "outputs": [
        {
          "name": "stdout",
          "output_type": "stream",
          "text": [
            "Revi Erlyn\n"
          ]
        }
      ],
      "source": [
        "def my_function(fname, lname):\n",
        "  print(fname + \" \" + lname)\n",
        "\n",
        "my_function(\"Abimanyu\", \"Erlyn\")"
      ]
    },
    {
      "cell_type": "code",
      "execution_count": null,
      "metadata": {
        "id": "b25teF5EqXDd"
      },
      "outputs": [],
      "source": []
    },
    {
      "cell_type": "code",
      "execution_count": null,
      "metadata": {
        "id": "JUvc-MxYqXbM"
      },
      "outputs": [],
      "source": []
    },
    {
      "cell_type": "code",
      "execution_count": null,
      "metadata": {
        "colab": {
          "base_uri": "https://localhost:8080/"
        },
        "id": "4FUy7FOKnIe-",
        "outputId": "113bbea7-813b-4f84-e3a2-d441dae04226"
      },
      "outputs": [
        {
          "name": "stdout",
          "output_type": "stream",
          "text": [
            "\n",
            "\n",
            "Recursion Example Results\n",
            "1\n",
            "3\n",
            "6\n",
            "10\n",
            "15\n",
            "21\n",
            "28\n",
            "36\n",
            "45\n"
          ]
        },
        {
          "data": {
            "text/plain": [
              "45"
            ]
          },
          "execution_count": 1,
          "metadata": {},
          "output_type": "execute_result"
        }
      ],
      "source": [
        "def tri_recursion(k):\n",
        "  if(k > 0):\n",
        "    result = k + tri_recursion(k-1)\n",
        "    print(result)\n",
        "  else:\n",
        "    result = 0\n",
        "  return result\n",
        "print(\"\\n\\nRecursion Example Results\")\n",
        "tri_recursion(9)"
      ]
    },
    {
      "cell_type": "code",
      "execution_count": null,
      "metadata": {
        "colab": {
          "base_uri": "https://localhost:8080/"
        },
        "id": "HHDbNdk66363",
        "outputId": "2e2a08cd-aa99-4e8b-be23-b4b265984e08"
      },
      "outputs": [
        {
          "name": "stdout",
          "output_type": "stream",
          "text": [
            "Masukkan angka : 7\n",
            "faktorial dari 7 : 5040\n"
          ]
        }
      ],
      "source": [
        "a = input(\"Masukkan angka : \")\n",
        "a = int(a)\n",
        "\n",
        "def faktorial(r):\n",
        "  if r == 1:\n",
        "    return 1\n",
        "  else:\n",
        "    return (r * faktorial(r-1))\n",
        "jawaban = faktorial(a)\n",
        "print(f\"faktorial dari {a} : {jawaban}\")"
      ]
    },
    {
      "cell_type": "code",
      "execution_count": null,
      "metadata": {
        "id": "-9o-6g_o_FTS",
        "colab": {
          "base_uri": "https://localhost:8080/"
        },
        "outputId": "08599d52-c124-4341-91e1-95da2551b729"
      },
      "outputs": [
        {
          "output_type": "stream",
          "name": "stdout",
          "text": [
            "\n",
            "Kalkulator Luas Bangun Datar\n",
            "a. Luas dari Lingkaran\n",
            "b. Luas dari Persegi\n",
            "c. Luas dari Segitiga\n",
            "d. Done yak guis\n",
            "Pilih opsi (a/b/c/d): a\n",
            "Masukkan jari-jari lingkaran: 2\n",
            "Luas dari lingkaran: 12.56\n",
            "\n",
            "Kalkulator Luas Bangun Datar\n",
            "a. Luas dari Lingkaran\n",
            "b. Luas dari Persegi\n",
            "c. Luas dari Segitiga\n",
            "d. Done yak guis\n",
            "Pilih opsi (a/b/c/d): b\n",
            "Masukkan panjang sisi persegi: 3\n",
            "Luas dari persegi: 9.00\n",
            "\n",
            "Kalkulator Luas Bangun Datar\n",
            "a. Luas dari Lingkaran\n",
            "b. Luas dari Persegi\n",
            "c. Luas dari Segitiga\n",
            "d. Done yak guis\n",
            "Pilih opsi (a/b/c/d): c\n",
            "Masukkan panjang alas segitiga: 2\n",
            "Masukkan tinggi segitiga: 3\n",
            "Luas dari segitiga: 3.00\n",
            "\n",
            "Kalkulator Luas Bangun Datar\n",
            "a. Luas dari Lingkaran\n",
            "b. Luas dari Persegi\n",
            "c. Luas dari Segitiga\n",
            "d. Done yak guis\n",
            "Pilih opsi (a/b/c/d): d\n",
            "Done.\n"
          ]
        }
      ],
      "source": [
        "def luas_lingkaran():\n",
        "    jarijari = float(input(\"Masukkan jari-jari lingkaran: \"))\n",
        "    luas = 3.14 * jarijari ** 2\n",
        "    print(f\"Luas dari lingkaran: {luas:.2f}\")\n",
        "\n",
        "def luas_persegi():\n",
        "    sisi = float(input(\"Masukkan panjang sisi persegi: \"))\n",
        "    luas = sisi ** 2\n",
        "    print(f\"Luas dari persegi: {luas:.2f}\")\n",
        "\n",
        "def luas_segitiga():\n",
        "    alas = float(input(\"Masukkan panjang alas segitiga: \"))\n",
        "    tinggi = float(input(\"Masukkan tinggi segitiga: \"))\n",
        "    luas = 0.5 * alas * tinggi\n",
        "    print(f\"Luas dari segitiga: {luas:.2f}\")\n",
        "\n",
        "def kalkulator_luas():\n",
        "    while True:\n",
        "        print(\"\\nKalkulator Luas Bangun Datar\")\n",
        "        print(\"a. Luas dari Lingkaran\")\n",
        "        print(\"b. Luas dari Persegi\")\n",
        "        print(\"c. Luas dari Segitiga\")\n",
        "        print(\"d. Done yak guis\")\n",
        "\n",
        "        silahkan_pilih_gais = input(\"Pilih opsi (a/b/c/d): \")\n",
        "\n",
        "        if silahkan_pilih_gais == 'a':\n",
        "            luas_lingkaran()\n",
        "        elif silahkan_pilih_gais == 'b':\n",
        "            luas_persegi()\n",
        "        elif silahkan_pilih_gais == 'c':\n",
        "            luas_segitiga()\n",
        "        elif silahkan_pilih_gais == 'd':\n",
        "            print(\"Done.\")\n",
        "            break\n",
        "        else:\n",
        "            print(\"Tidak valid\")\n",
        "\n",
        "kalkulator_luas()"
      ]
    },
    {
      "cell_type": "code",
      "execution_count": null,
      "metadata": {
        "id": "EwSshI8OA_lQ"
      },
      "outputs": [],
      "source": [
        "\n"
      ]
    },
    {
      "cell_type": "code",
      "execution_count": null,
      "metadata": {
        "id": "4CfdFrDPEit0"
      },
      "outputs": [],
      "source": []
    }
  ],
  "metadata": {
    "colab": {
      "provenance": [],
      "authorship_tag": "ABX9TyNXrm05DaI+0tBQHK4neKx3",
      "include_colab_link": true
    },
    "kernelspec": {
      "display_name": "Python 3",
      "name": "python3"
    },
    "language_info": {
      "name": "python"
    }
  },
  "nbformat": 4,
  "nbformat_minor": 0
}
