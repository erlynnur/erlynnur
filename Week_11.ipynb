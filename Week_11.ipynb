{
  "nbformat": 4,
  "nbformat_minor": 0,
  "metadata": {
    "colab": {
      "provenance": [],
      "authorship_tag": "ABX9TyMj0eydhQ8cUJhejX7eTrEC",
      "include_colab_link": true
    },
    "kernelspec": {
      "name": "python3",
      "display_name": "Python 3"
    },
    "language_info": {
      "name": "python"
    }
  },
  "cells": [
    {
      "cell_type": "markdown",
      "metadata": {
        "id": "view-in-github",
        "colab_type": "text"
      },
      "source": [
        "<a href=\"https://colab.research.google.com/github/erlynnur/erlynnur/blob/main/Week_11.ipynb\" target=\"_parent\"><img src=\"https://colab.research.google.com/assets/colab-badge.svg\" alt=\"Open In Colab\"/></a>"
      ]
    },
    {
      "cell_type": "code",
      "source": [
        "import modul_erlyn\n",
        "a = modul_erlyn.About_me\n",
        "print(a)\n",
        "\n",
        "#OUTPUT : {'Nama': 'Erlyn', 'Kelas',: 'Rombel 1', 'Fav warna': 'Biru'}"
      ],
      "metadata": {
        "colab": {
          "base_uri": "https://localhost:8080/"
        },
        "id": "IjNh8JMNzO7C",
        "outputId": "03f31753-518f-40d5-8130-1a68cd8c1415"
      },
      "execution_count": 16,
      "outputs": [
        {
          "output_type": "stream",
          "name": "stdout",
          "text": [
            "{'Nama': 'Erlyn', 'Kelas': 'Rombel 1', 'Fav warna': 'Biru'}\n"
          ]
        }
      ]
    },
    {
      "cell_type": "code",
      "execution_count": 2,
      "metadata": {
        "id": "edEx9wDMsgQZ",
        "colab": {
          "base_uri": "https://localhost:8080/"
        },
        "outputId": "5ee3068c-55da-4c1d-b9dc-65c5e8087930"
      },
      "outputs": [
        {
          "output_type": "stream",
          "name": "stdout",
          "text": [
            "Luas lingkaran dengan jari-jari 8 adalah 200.96\n",
            "Luas persegi dengan panjang sisi 6 adalah 36\n"
          ]
        }
      ],
      "source": [
        "# WEEKLY EXERCISE 1\n",
        "# Menghitung luas bangun datar\n",
        "import matematika\n",
        "\n",
        "# Fungsi luas lingkaran\n",
        "# Misalkan jari jari = 8\n",
        "jari_jari = 8\n",
        "Llingkaran = matematika.luas_lingkaran(jari_jari)\n",
        "print(f\"Luas lingkaran dengan jari-jari {jari_jari} adalah {Llingkaran}\")\n",
        "\n",
        "# Fungsi luas persegi\n",
        "# Misalkan panjang sisi 6\n",
        "sisi = 6\n",
        "Lpersegi = matematika.luas_persegi(sisi)\n",
        "print(f\"Luas persegi dengan panjang sisi {sisi} adalah {Lpersegi}\")"
      ]
    },
    {
      "cell_type": "code",
      "source": [
        "#WEEKLY EXERCICE 2\n",
        "import math\n",
        "# 1. math.ceil = membulatkan bilangan ke atas\n",
        "x = 5.5\n",
        "print(f\"jika {x} dibulatkan ke atas, maka menjadi {math.ceil(x)}\")\n",
        "print()\n",
        "\n",
        "# 2. math.floor = membulatkan bilangan ke bawah\n",
        "x = 8.3\n",
        "print(f\"jika {x} dibulatkan ke bawah, maka menjadi {math.floor(x)}\")\n",
        "print()\n",
        "\n",
        "# 3. math.pow = menghitung pangkat\n",
        "x = 7\n",
        "y = 2\n",
        "print(f\"hasil {x} pangkat {y} = {math.pow(x, y)}\")\n",
        "print()\n",
        "\n",
        "# 4. math.sqrt = untuk menghiung akar kuadrat\n",
        "angka = 81\n",
        "akar = math.sqrt(angka)\n",
        "print(f\"Akar kuadrat dari {angka} adalah {akar}\")\n",
        "\n",
        "# 5. math.factorial = menghitung faktorial seuatu bilangan\n",
        "x = 4\n",
        "print(f\"hasil faktorial dari {x} adalah {math.factorial(x)}\")"
      ],
      "metadata": {
        "colab": {
          "base_uri": "https://localhost:8080/"
        },
        "id": "DXQtw8zcuix1",
        "outputId": "67c990d0-4883-413c-fa25-d67e42c209a0"
      },
      "execution_count": 20,
      "outputs": [
        {
          "output_type": "stream",
          "name": "stdout",
          "text": [
            "jika 5.5 dibulatkan ke atas, maka menjadi 6\n",
            "\n",
            "jika 8.3 dibulatkan ke bawah, maka menjadi 8\n",
            "\n",
            "hasil 7 pangkat 2 = 49.0\n",
            "\n",
            "Akar kuadrat dari 81 adalah 9.0\n",
            "hasil faktorial dari 4 adalah 24\n"
          ]
        }
      ]
    }
  ]
}