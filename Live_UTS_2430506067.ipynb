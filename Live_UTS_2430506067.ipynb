{
  "nbformat": 4,
  "nbformat_minor": 0,
  "metadata": {
    "colab": {
      "provenance": [],
      "authorship_tag": "ABX9TyOx62PxlURBd1v35BGPUfS6",
      "include_colab_link": true
    },
    "kernelspec": {
      "name": "python3",
      "display_name": "Python 3"
    },
    "language_info": {
      "name": "python"
    }
  },
  "cells": [
    {
      "cell_type": "markdown",
      "metadata": {
        "id": "view-in-github",
        "colab_type": "text"
      },
      "source": [
        "<a href=\"https://colab.research.google.com/github/erlynnur/erlynnur/blob/main/Live_UTS_2430506067.ipynb\" target=\"_parent\"><img src=\"https://colab.research.google.com/assets/colab-badge.svg\" alt=\"Open In Colab\"/></a>"
      ]
    },
    {
      "cell_type": "code",
      "execution_count": null,
      "metadata": {
        "colab": {
          "base_uri": "https://localhost:8080/"
        },
        "id": "PEJBVfbEYTv3",
        "outputId": "d7c826d8-c636-49f1-8b17-c236e2bba752"
      },
      "outputs": [
        {
          "output_type": "stream",
          "name": "stdout",
          "text": [
            " masukkan npm kamu: 2430506067\n",
            "berapa jumlah genapnya:  7\n",
            "berapa jumlah ganjilnya :  3\n"
          ]
        }
      ],
      "source": [
        "#user memasukkan npm\n",
        "npm = input(\" masukkan npm kamu: \")\n",
        "\n",
        "genap, ganjil = 0,0\n",
        "\n",
        "for angka in npm:\n",
        "\tangka = int(angka)\n",
        "\tif angka ^ 1 == angka + 1:\n",
        "\t\tgenap += 1\n",
        "\n",
        "\telse:\n",
        "\t\tganjil += 1\n",
        "\n",
        "print(\"berapa jumlah genapnya: \", genap)\n",
        "print(\"berapa jumlah ganjilnya : \", ganjil)\n",
        "\n"
      ]
    },
    {
      "cell_type": "code",
      "source": [
        "angka_baris = int(input(\"masukkan jumlah baris yang kamu inginkan: \"))\n",
        "\n",
        "for x in range(1, (angka_baris + 1)):\n",
        "  for y in range(1, (x + 1)):\n",
        "    print(x * y, end=' ')\n",
        "  print()"
      ],
      "metadata": {
        "id": "XDm7YhhJcL7J",
        "colab": {
          "base_uri": "https://localhost:8080/"
        },
        "outputId": "04d6e37e-b845-4fe3-cdd4-b9585d3bf156"
      },
      "execution_count": null,
      "outputs": [
        {
          "output_type": "stream",
          "name": "stdout",
          "text": [
            "masukkan jumlah baris yang kamu inginkan: 10\n",
            "1 \n",
            "2 4 \n",
            "3 6 9 \n",
            "4 8 12 16 \n",
            "5 10 15 20 25 \n",
            "6 12 18 24 30 36 \n",
            "7 14 21 28 35 42 49 \n",
            "8 16 24 32 40 48 56 64 \n",
            "9 18 27 36 45 54 63 72 81 \n",
            "10 20 30 40 50 60 70 80 90 100 \n"
          ]
        }
      ]
    },
    {
      "cell_type": "code",
      "source": [],
      "metadata": {
        "id": "DiagjLJqS1TC"
      },
      "execution_count": null,
      "outputs": []
    }
  ]
}