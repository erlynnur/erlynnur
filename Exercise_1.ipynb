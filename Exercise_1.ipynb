{
  "nbformat": 4,
  "nbformat_minor": 0,
  "metadata": {
    "colab": {
      "provenance": [],
      "authorship_tag": "ABX9TyNeFe5PrUR/ysh8pp8AhFoe",
      "include_colab_link": true
    },
    "kernelspec": {
      "name": "python3",
      "display_name": "Python 3"
    },
    "language_info": {
      "name": "python"
    }
  },
  "cells": [
    {
      "cell_type": "markdown",
      "metadata": {
        "id": "view-in-github",
        "colab_type": "text"
      },
      "source": [
        "<a href=\"https://colab.research.google.com/github/erlynnur/erlynnur/blob/main/Exercise_1.ipynb\" target=\"_parent\"><img src=\"https://colab.research.google.com/assets/colab-badge.svg\" alt=\"Open In Colab\"/></a>"
      ]
    },
    {
      "cell_type": "code",
      "execution_count": 1,
      "metadata": {
        "id": "IXzgixRi15vK"
      },
      "outputs": [],
      "source": [
        "!mkdir -p /resources/data"
      ]
    },
    {
      "cell_type": "code",
      "source": [
        "with open('/resources/data/Biodata erlyn.txt', 'w') as writefile:\n",
        "  writefile.write(\"Nama           : Erlyn Nur Rizqi Maulidya\\n\")\n",
        "  writefile.write(\"Program studi  : Teknologi Informasi\\n\")\n",
        "  writefile.write(\"NPM            : 2430506067\\n\")\n",
        "  writefile.write(\"Alamat         : Dumpoh Raya\\n\")\n",
        "  writefile.write(\"Hobi           : Membaca Alternative Universe\\n\")\n",
        "  writefile.write(\"Email          : erlynmaulidya28@gmail.com\\n\")"
      ],
      "metadata": {
        "id": "YHNupU_12GGA"
      },
      "execution_count": 2,
      "outputs": []
    },
    {
      "cell_type": "code",
      "source": [
        "with open('/resources/data/Biodata erlyn.txt', 'r') as testwritefile:\n",
        "  print(testwritefile.read())"
      ],
      "metadata": {
        "colab": {
          "base_uri": "https://localhost:8080/"
        },
        "id": "jHxaUzjE6fiq",
        "outputId": "b0124ded-45fc-48b0-f759-a77a0ef46348"
      },
      "execution_count": 4,
      "outputs": [
        {
          "output_type": "stream",
          "name": "stdout",
          "text": [
            "Nama           : Erlyn Nur Rizqi Maulidya\n",
            "Program studi  : Teknologi Informasi\n",
            "NPM            : 2430506067\n",
            "Alamat         : Dumpoh Raya\n",
            "Hobi           : Membaca Alternative Universe\n",
            "Email          : erlynmaulidya28@gmail.com\n",
            "\n"
          ]
        }
      ]
    },
    {
      "cell_type": "code",
      "source": [
        "with open('/resources/data/Biodata erlyn.txt', 'r') as testwritefile:\n",
        "  for line in testwritefile:\n",
        "      if \"Nama\" in line or \"Program studi\" in line or \"Email\" in line:\n",
        "          print(line.strip())"
      ],
      "metadata": {
        "colab": {
          "base_uri": "https://localhost:8080/"
        },
        "id": "cRsgspyR70db",
        "outputId": "834fc35a-f9fc-46d4-99f1-8b8f387a110b"
      },
      "execution_count": 6,
      "outputs": [
        {
          "output_type": "stream",
          "name": "stdout",
          "text": [
            "Nama           : Erlyn Nur Rizqi Maulidya\n",
            "Program studi  : Teknologi Informasi\n",
            "Email          : erlynmaulidya28@gmail.com\n"
          ]
        }
      ]
    },
    {
      "cell_type": "code",
      "source": [
        "with open('/resources/data/Biodata erlyn.txt', 'r') as readfile:\n",
        "  with open('/resources/data/Biodata erlyn keduaa.txt', 'w') as testwritefile:\n",
        "    for line in readfile:\n",
        "        testwritefile.write(line)"
      ],
      "metadata": {
        "id": "-bw8vUzWFUzj"
      },
      "execution_count": 11,
      "outputs": []
    },
    {
      "cell_type": "code",
      "source": [
        "with open('/resources/data/Biodata erlyn keduaa.txt', 'r') as testwritefile:\n",
        "    for line in testwritefile:\n",
        "        if \"Nama\" in line or \"NPM\" in line or \"Program studi\" in line or \"Alamat\" in line:\n",
        "          print(line.strip())"
      ],
      "metadata": {
        "colab": {
          "base_uri": "https://localhost:8080/"
        },
        "id": "TzllDT_fJi1-",
        "outputId": "491698d3-aba0-4214-b318-b54fd0b76ce0"
      },
      "execution_count": 14,
      "outputs": [
        {
          "output_type": "stream",
          "name": "stdout",
          "text": [
            "Nama           : Erlyn Nur Rizqi Maulidya\n",
            "Program studi  : Teknologi Informasi\n",
            "NPM            : 2430506067\n",
            "Alamat         : Dumpoh Raya\n"
          ]
        }
      ]
    },
    {
      "cell_type": "code",
      "source": [],
      "metadata": {
        "id": "lJNr-_ZcrNpv"
      },
      "execution_count": null,
      "outputs": []
    }
  ]
}