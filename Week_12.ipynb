{
  "cells": [
    {
      "cell_type": "markdown",
      "metadata": {
        "id": "view-in-github",
        "colab_type": "text"
      },
      "source": [
        "<a href=\"https://colab.research.google.com/github/erlynnur/erlynnur/blob/main/Week_12.ipynb\" target=\"_parent\"><img src=\"https://colab.research.google.com/assets/colab-badge.svg\" alt=\"Open In Colab\"/></a>"
      ]
    },
    {
      "cell_type": "markdown",
      "source": [
        "Exercise 1"
      ],
      "metadata": {
        "id": "gGcUX6poUo0q"
      }
    },
    {
      "cell_type": "code",
      "execution_count": 6,
      "metadata": {
        "colab": {
          "base_uri": "https://localhost:8080/"
        },
        "id": "DbRtwkBs4gkV",
        "outputId": "4e877297-bd44-4877-e092-b3b412802f6b"
      },
      "outputs": [
        {
          "output_type": "stream",
          "name": "stdout",
          "text": [
            "\n",
            "Kalkulator Luas Bangun Datar\n",
            "a. Luas dari Lingkaran\n",
            "b. Luas dari Persegi\n",
            "c. Luas dari Segitiga\n",
            "d. Done yak guis\n",
            "Pilih opsi (a/b/c/d): a\n",
            "Masukkan jari-jari lingkaran: s\n",
            "Cuma boleh angka doang ya guys\n",
            "Masukkan jari-jari lingkaran: 3\n",
            "Luas dari lingkaran: 28.26\n",
            "\n",
            "Kalkulator Luas Bangun Datar\n",
            "a. Luas dari Lingkaran\n",
            "b. Luas dari Persegi\n",
            "c. Luas dari Segitiga\n",
            "d. Done yak guis\n",
            "Pilih opsi (a/b/c/d): d\n",
            "Done.\n"
          ]
        }
      ],
      "source": [
        "def luas_lingkaran():\n",
        "    while True:\n",
        "        try:\n",
        "            jarijari = input(\"Masukkan jari-jari lingkaran: \")\n",
        "            if not jarijari:\n",
        "                raise ValueError(\"gak boleh kosong yaw\")\n",
        "            jarijari = float(jarijari)\n",
        "            luas = 3.14 * jarijari ** 2\n",
        "            print(f\"Luas dari lingkaran: {luas:.2f}\")\n",
        "            break\n",
        "        except Exception:\n",
        "            print(\"Cuma boleh angka doang ya guys\")\n",
        "\n",
        "def luas_persegi():\n",
        "    while True:\n",
        "        try:\n",
        "            sisi = input(\"Masukkan panjang sisi persegi: \")\n",
        "            if not sisi:\n",
        "                raise ValueError(\"gak boleh kosong yaw\")\n",
        "            sisi = float(sisi)\n",
        "            luas = sisi ** 2\n",
        "            print(f\"Luas dari persegi: {luas:.2f}\")\n",
        "            break\n",
        "        except Exception:\n",
        "            print(\"Cuma boleh angka doang ya guys\")\n",
        "\n",
        "def luas_segitiga():\n",
        "    while True:\n",
        "        try:\n",
        "            alas = input(\"Masukkan panjang alas segitiga: \")\n",
        "            if not alas:\n",
        "                raise ValueError(\"gak boleh kosong yaw\")\n",
        "            alas = float(alas)\n",
        "\n",
        "            tinggi = input(\"Masukkan tinggi segitiga: \")\n",
        "            if not tinggi:\n",
        "                raise ValueError(\"gak boleh kosong yaw\")\n",
        "            tinggi = float(tinggi)\n",
        "\n",
        "            luas = 0.5 * alas * tinggi\n",
        "            print(f\"Luas dari segitiga: {luas:.2f}\")\n",
        "            break\n",
        "        except Exception:\n",
        "            print(\"Cuma boleh angka doang ya guys\")\n",
        "\n",
        "def main():\n",
        "    while True:\n",
        "        print(\"\\nKalkulator Luas Bangun Datar\")\n",
        "        print(\"a. Luas dari Lingkaran\")\n",
        "        print(\"b. Luas dari Persegi\")\n",
        "        print(\"c. Luas dari Segitiga\")\n",
        "        print(\"d. Done yak guis\")\n",
        "\n",
        "        silahkan_pilih_gais = input(\"Pilih opsi (a/b/c/d): \")\n",
        "\n",
        "        if silahkan_pilih_gais == 'a':\n",
        "            luas_lingkaran()\n",
        "        elif silahkan_pilih_gais == 'b':\n",
        "            luas_persegi()\n",
        "        elif silahkan_pilih_gais == 'c':\n",
        "            luas_segitiga()\n",
        "        elif silahkan_pilih_gais == 'd':\n",
        "            print(\"Done.\")\n",
        "            break\n",
        "        else:\n",
        "            print(\"gak bisa kan\")\n",
        "\n",
        "main()"
      ]
    },
    {
      "cell_type": "markdown",
      "source": [
        "Exercise 2"
      ],
      "metadata": {
        "id": "86PaNZbNa7KD"
      }
    },
    {
      "cell_type": "code",
      "source": [
        "npm = input(\"Masukkan npm kamu: \")\n",
        "\n",
        "genap, ganjil = 0, 0\n",
        "\n",
        "for angka in npm:\n",
        "    try:\n",
        "        angka = int(angka)\n",
        "        if angka % 2 == 0:  # Cek apakah angka genap\n",
        "            genap += 1\n",
        "        else:  # Jika tidak, berarti ganjil\n",
        "            ganjil += 1\n",
        "    except ValueError:\n",
        "        print(f\"'{angka}' bukan angka.\")\n",
        "\n",
        "print(\"Jumlah angka genap: \", genap)\n",
        "print(\"Jumlah angka ganjil: \", ganjil)"
      ],
      "metadata": {
        "id": "jtbzpSXvUVTK",
        "colab": {
          "base_uri": "https://localhost:8080/"
        },
        "outputId": "9057c501-292d-4c96-f0d8-a68fea0c2086"
      },
      "execution_count": 5,
      "outputs": [
        {
          "output_type": "stream",
          "name": "stdout",
          "text": [
            "Masukkan npm kamu: h8h8h8h8\n",
            "'h' bukan angka.\n",
            "'h' bukan angka.\n",
            "'h' bukan angka.\n",
            "'h' bukan angka.\n",
            "Jumlah angka genap:  4\n",
            "Jumlah angka ganjil:  0\n"
          ]
        }
      ]
    },
    {
      "cell_type": "code",
      "source": [],
      "metadata": {
        "id": "oqTUuuJwRcrM"
      },
      "execution_count": 4,
      "outputs": []
    }
  ],
  "metadata": {
    "colab": {
      "provenance": [],
      "authorship_tag": "ABX9TyNT8FFgA3C8SFP0ZKWFBS14",
      "include_colab_link": true
    },
    "kernelspec": {
      "display_name": "Python 3",
      "name": "python3"
    },
    "language_info": {
      "name": "python"
    }
  },
  "nbformat": 4,
  "nbformat_minor": 0
}