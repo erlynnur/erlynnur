{
  "nbformat": 4,
  "nbformat_minor": 0,
  "metadata": {
    "colab": {
      "provenance": [],
      "authorship_tag": "ABX9TyN/gMPdYpWI56pPOGnoMxfN",
      "include_colab_link": true
    },
    "kernelspec": {
      "name": "python3",
      "display_name": "Python 3"
    },
    "language_info": {
      "name": "python"
    }
  },
  "cells": [
    {
      "cell_type": "markdown",
      "metadata": {
        "id": "view-in-github",
        "colab_type": "text"
      },
      "source": [
        "<a href=\"https://colab.research.google.com/github/erlynnur/erlynnur/blob/main/Python_UAS_kelompok_6.ipynb\" target=\"_parent\"><img src=\"https://colab.research.google.com/assets/colab-badge.svg\" alt=\"Open In Colab\"/></a>"
      ]
    },
    {
      "cell_type": "code",
      "execution_count": null,
      "metadata": {
        "colab": {
          "base_uri": "https://localhost:8080/"
        },
        "id": "Z9MQjr8M1AHb",
        "outputId": "970aada8-5b6f-47ea-d1a6-0011bf0dd456"
      },
      "outputs": [
        {
          "output_type": "stream",
          "name": "stdout",
          "text": [
            "\n",
            "[1] Tambah Mahasiswa Baru\n",
            "[2] Update Nilai Mahasiswa\n",
            "[3] Tampilkan Semua Data Mahasiswa\n",
            "[4] Cari Mahasiswa Berdasarkan NIM\n",
            "[5] Keluar\n",
            "Pilih: \n",
            "Isi angka aja!\n",
            "\n",
            "[1] Tambah Mahasiswa Baru\n",
            "[2] Update Nilai Mahasiswa\n",
            "[3] Tampilkan Semua Data Mahasiswa\n",
            "[4] Cari Mahasiswa Berdasarkan NIM\n",
            "[5] Keluar\n"
          ]
        }
      ],
      "source": [
        "class Mhs:\n",
        "    def _init_(self, nama, nim, nilai=0):\n",
        "        self.nm = nama\n",
        "        self.nim = nim\n",
        "        self.nilai = nilai\n",
        "\n",
        "    def tambahNilai(self, tambah):\n",
        "        try:\n",
        "            self.nilai += float(tambah)\n",
        "        except:\n",
        "            print(\"Harus angka!\")\n",
        "\n",
        "    def info(self):\n",
        "        return f\"{self.nm}, {self.nim}, Nilai: {self.nilai:.2f}\"\n",
        "\n",
        "#Data\n",
        "mhsList = [] #List Mahasiswa\n",
        "mhsMap = {} #Dict Mahasiswa\n",
        "\n",
        "#Fungsi untuk menampilkan semua data mahasiswa\n",
        "def printSemua():\n",
        "    if len(mhsList) == 0:\n",
        "        print(\"kosong bro\")\n",
        "    else:\n",
        "        for m in mhsList:\n",
        "            print(m.info())\n",
        "\n",
        "#Fungsi untuk mencari mahasiswa berdasarkan NIM\n",
        "def cariMhs(nim):\n",
        "    mhs = next((x for x in mhsList if x.nim == nim), None)\n",
        "    if mhs:\n",
        "        print(\"Ditemukan:\", mhs.info())\n",
        "    else:\n",
        "        print(\"NIM ga ada\")\n",
        "\n",
        "#Fungsi untuk menambahkan mahasiswa baru\n",
        "def tambahMhs(nama, nim, nilai=0):\n",
        "    if nim in mhsMap:\n",
        "        print(\"Udah ada NIM ini\")\n",
        "    else:\n",
        "        m = Mhs(nama, nim, nilai)\n",
        "        mhsList.append(m)\n",
        "        mhsMap[nim] = m\n",
        "        print(f\"Tambah {nama} sukses\")\n",
        "\n",
        "#Fungsi untuk mengupdate nilai mahasiswa\n",
        "def updateNilai(nim, nambah):\n",
        "    mhs = next((x for x in mhsList if x.nim == nim), None)\n",
        "    if mhs:\n",
        "        mhs.tambahNilai(nambah)\n",
        "        print(f\"Nilai {nim} update\")\n",
        "    else:\n",
        "        print(\"NIM ga ketemu\")\n",
        "\n",
        "#Menu\n",
        "def menu():\n",
        "    while True:\n",
        "        print(\"\\n[1] Tambah Mahasiswa Baru\\n[2] Update Nilai Mahasiswa\\n[3] Tampilkan Semua Data Mahasiswa\\n[4] Cari Mahasiswa Berdasarkan NIM\\n[5] Keluar\")\n",
        "        try:\n",
        "            pil = int(input(\"Pilih: \"))\n",
        "            if pil == 1:\n",
        "                nama = input(\"Nama: \")\n",
        "                nim = input(\"NIM: \")\n",
        "                try:\n",
        "                    nilai = float(input(\"Nilai (default 0): \") or 0)\n",
        "                    tambahMhs(nama, nim, nilai)\n",
        "                except:\n",
        "                    print(\"Nilai harus angka\")\n",
        "            elif pil == 2:\n",
        "                nim = input(\"NIM: \")\n",
        "                try:\n",
        "                    nilai = float(input(\"Nilai tambahan: \"))\n",
        "                    updateNilai(nim, nilai)\n",
        "                except:\n",
        "                    print(\"Angka doang\")\n",
        "            elif pil == 3:\n",
        "                printSemua()\n",
        "            elif pil == 4:\n",
        "                nim = input(\"NIM: \")\n",
        "                cariMhs(nim)\n",
        "            elif pil == 5:\n",
        "                print(\"Dah ya\")\n",
        "                break\n",
        "            else:\n",
        "                print(\"1-5 bro\")\n",
        "        except:\n",
        "            print(\"Isi angka aja!\")\n",
        "\n",
        "menu()\n"
      ]
    },
    {
      "cell_type": "code",
      "source": [],
      "metadata": {
        "id": "sXouEGxZ1dF1"
      },
      "execution_count": null,
      "outputs": []
    }
  ]
}