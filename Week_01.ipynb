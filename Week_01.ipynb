{
  "nbformat": 4,
  "nbformat_minor": 0,
  "metadata": {
    "colab": {
      "provenance": [],
      "authorship_tag": "ABX9TyOfinqDUIHcjQcYBR21SHuO",
      "include_colab_link": true
    },
    "kernelspec": {
      "name": "python3",
      "display_name": "Python 3"
    },
    "language_info": {
      "name": "python"
    }
  },
  "cells": [
    {
      "cell_type": "markdown",
      "metadata": {
        "id": "view-in-github",
        "colab_type": "text"
      },
      "source": [
        "<a href=\"https://colab.research.google.com/github/erlynnur/erlynnur/blob/main/Praktikum_algoritma_pemograman_minggu_kedua%201_30_08_2024.ipynb\" target=\"_parent\"><img src=\"https://colab.research.google.com/assets/colab-badge.svg\" alt=\"Open In Colab\"/></a>"
      ]
    },
    {
      "cell_type": "markdown",
      "source": [
        "say Hello to the World"
      ],
      "metadata": {
        "id": "SheTBPH_NOh5"
      }
    },
    {
      "cell_type": "code",
      "source": [
        "#     oci lucu banget siiiiiii (ini menambahkan komentar)\n",
        "print('Hello, Ociiii!')"
      ],
      "metadata": {
        "colab": {
          "base_uri": "https://localhost:8080/"
        },
        "id": "ZZzX_s2qOXMn",
        "outputId": "35abd5e4-120f-40f2-e841-1a392422e371"
      },
      "execution_count": null,
      "outputs": [
        {
          "output_type": "stream",
          "name": "stdout",
          "text": [
            "Hello, Ociiii!\n"
          ]
        }
      ]
    },
    {
      "cell_type": "code",
      "source": [
        "# kucingmu lucu banget (ini salah ya, karena harusnya tanda petiknya satu aja jangan maruk jadi 2 yaaaaa)\n",
        "print(\"\"Kucingmu makan apa?\"\")"
      ],
      "metadata": {
        "colab": {
          "base_uri": "https://localhost:8080/",
          "height": 106
        },
        "id": "Yibs2H1hQKCX",
        "outputId": "fac682eb-0bd5-494b-e12b-d954d3aab555"
      },
      "execution_count": null,
      "outputs": [
        {
          "output_type": "error",
          "ename": "SyntaxError",
          "evalue": "invalid syntax. Perhaps you forgot a comma? (<ipython-input-9-b91b1c0ebdc2>, line 2)",
          "traceback": [
            "\u001b[0;36m  File \u001b[0;32m\"<ipython-input-9-b91b1c0ebdc2>\"\u001b[0;36m, line \u001b[0;32m2\u001b[0m\n\u001b[0;31m    print(\"\"Kucingmu makan apa?\"\")\u001b[0m\n\u001b[0m          ^\u001b[0m\n\u001b[0;31mSyntaxError\u001b[0m\u001b[0;31m:\u001b[0m invalid syntax. Perhaps you forgot a comma?\n"
          ]
        }
      ]
    },
    {
      "cell_type": "code",
      "source": [
        "#  Waw kok bisa makan Tempe (nah ini benar guys, karena tanda petiknya cuma satu gitu)\n",
        "print(\"Oci makan tempe sama pindang\")"
      ],
      "metadata": {
        "colab": {
          "base_uri": "https://localhost:8080/"
        },
        "id": "vb6D2f0JSmAh",
        "outputId": "689ea0b4-0090-4f80-aa2a-8d2cfed3628f"
      },
      "execution_count": null,
      "outputs": [
        {
          "output_type": "stream",
          "name": "stdout",
          "text": [
            "Oci makan tempe sama pindang\n"
          ]
        }
      ]
    },
    {
      "cell_type": "code",
      "source": [
        "# Waw Kucingmu berat Banget siiiii\n",
        "print(\"Biodata Oci\")\n",
        "print(\" \")\n",
        "print(\"Nama             : Oci\")\n",
        "print(\" \")\n",
        "print(\"Alamat           : Bumi Plantaran Indah RT04 Rw13\")\n",
        "print(\" \")\n",
        "print(\"Tinggi Badan     : 30\")\n",
        "print(\" \")\n",
        "print(\"Berat Badan      : 5,7\")"
      ],
      "metadata": {
        "colab": {
          "base_uri": "https://localhost:8080/"
        },
        "id": "g6Na1SBQV1j4",
        "outputId": "1af30ee4-2657-4fe6-d865-0ba805d566c7"
      },
      "execution_count": null,
      "outputs": [
        {
          "output_type": "stream",
          "name": "stdout",
          "text": [
            "Biodata Oci\n",
            " \n",
            "Nama             : Oci\n",
            " \n",
            "Alamat           : Bumi Plantaran Indah RT04 Rw13\n",
            " \n",
            "Tinggi Badan     : 30\n",
            " \n",
            "Berat Badan      : 5,7\n"
          ]
        }
      ]
    },
    {
      "cell_type": "code",
      "source": [
        "# Lihat versi pythonmu\n",
        "import sys\n",
        "print(\"python version\")\n",
        "print(sys.version)\n",
        "print(\"version info.\")\n",
        "print(sys.version_info)"
      ],
      "metadata": {
        "id": "GfVchj2lTKFf",
        "colab": {
          "base_uri": "https://localhost:8080/"
        },
        "outputId": "37500543-edea-46e8-df35-086428259fc0"
      },
      "execution_count": null,
      "outputs": [
        {
          "output_type": "stream",
          "name": "stdout",
          "text": [
            "python version\n",
            "3.10.12 (main, Jul 29 2024, 16:56:48) [GCC 11.4.0]\n",
            "version info.\n",
            "sys.version_info(major=3, minor=10, micro=12, releaselevel='final', serial=0)\n"
          ]
        }
      ]
    },
    {
      "cell_type": "code",
      "source": [
        "# Say hello to Oci again guys!\n",
        "\n",
        "print('Hello, Ociiii!') # untuk cetak string\n",
        "print('Hi Ociku') #klo ini cetak Hi Ociku"
      ],
      "metadata": {
        "colab": {
          "base_uri": "https://localhost:8080/"
        },
        "id": "UDrWKwDeUGuH",
        "outputId": "0beedf69-9bbe-4bc6-fbc8-763fdf254270"
      },
      "execution_count": null,
      "outputs": [
        {
          "output_type": "stream",
          "name": "stdout",
          "text": [
            "Hello, Ociiii!\n",
            "Hi Ociku\n"
          ]
        }
      ]
    },
    {
      "cell_type": "code",
      "source": [
        "# ini eror karena kita melakukan kesalahan yaitu (prinr) yang harusnya \"print\"\n",
        "prinr(\"Hello, Ocii!!\")"
      ],
      "metadata": {
        "id": "O3fmkAm4U4Zz",
        "colab": {
          "base_uri": "https://localhost:8080/",
          "height": 141
        },
        "outputId": "d5a72de2-3118-4f82-eca1-7723fcee747f"
      },
      "execution_count": null,
      "outputs": [
        {
          "output_type": "error",
          "ename": "NameError",
          "evalue": "name 'prinr' is not defined",
          "traceback": [
            "\u001b[0;31m---------------------------------------------------------------------------\u001b[0m",
            "\u001b[0;31mNameError\u001b[0m                                 Traceback (most recent call last)",
            "\u001b[0;32m<ipython-input-2-f1c073c9ba09>\u001b[0m in \u001b[0;36m<cell line: 1>\u001b[0;34m()\u001b[0m\n\u001b[0;32m----> 1\u001b[0;31m \u001b[0mprinr\u001b[0m\u001b[0;34m(\u001b[0m\u001b[0;34m\"Hello, Ocii!!\"\u001b[0m\u001b[0;34m)\u001b[0m\u001b[0;34m\u001b[0m\u001b[0;34m\u001b[0m\u001b[0m\n\u001b[0m",
            "\u001b[0;31mNameError\u001b[0m: name 'prinr' is not defined"
          ]
        }
      ]
    },
    {
      "cell_type": "code",
      "source": [
        "#cetak String dan eror untuk melihat apakah akan berhasil dijalankan atau tidak\n",
        "print(\"ini akan dicetak\")\n",
        "Prinr(\"ini tidak akan dicetak karena salah\")\n",
        "print(\"ini juga tidak akan dicetak\")"
      ],
      "metadata": {
        "colab": {
          "base_uri": "https://localhost:8080/",
          "height": 193
        },
        "id": "J7MSbGIj-02m",
        "outputId": "924b4ea9-e459-4d65-96eb-221e5c129a3f"
      },
      "execution_count": null,
      "outputs": [
        {
          "output_type": "stream",
          "name": "stdout",
          "text": [
            "ini akan dicetak\n"
          ]
        },
        {
          "output_type": "error",
          "ename": "NameError",
          "evalue": "name 'Prinr' is not defined",
          "traceback": [
            "\u001b[0;31m---------------------------------------------------------------------------\u001b[0m",
            "\u001b[0;31mNameError\u001b[0m                                 Traceback (most recent call last)",
            "\u001b[0;32m<ipython-input-4-a416f6876c53>\u001b[0m in \u001b[0;36m<cell line: 2>\u001b[0;34m()\u001b[0m\n\u001b[1;32m      1\u001b[0m \u001b[0mprint\u001b[0m\u001b[0;34m(\u001b[0m\u001b[0;34m\"ini akan dicetak\"\u001b[0m\u001b[0;34m)\u001b[0m\u001b[0;34m\u001b[0m\u001b[0;34m\u001b[0m\u001b[0m\n\u001b[0;32m----> 2\u001b[0;31m \u001b[0mPrinr\u001b[0m\u001b[0;34m(\u001b[0m\u001b[0;34m\"ini tidak akan dicetak karena salah\"\u001b[0m\u001b[0;34m)\u001b[0m\u001b[0;34m\u001b[0m\u001b[0;34m\u001b[0m\u001b[0m\n\u001b[0m\u001b[1;32m      3\u001b[0m \u001b[0mprint\u001b[0m\u001b[0;34m(\u001b[0m\u001b[0;34m\"ini juga tidak akan dicetak\"\u001b[0m\u001b[0;34m)\u001b[0m\u001b[0;34m\u001b[0m\u001b[0;34m\u001b[0m\u001b[0m\n",
            "\u001b[0;31mNameError\u001b[0m: name 'Prinr' is not defined"
          ]
        }
      ]
    },
    {
      "cell_type": "code",
      "source": [
        "#saatnya kita mencoba, nah ini benar ya, karena print dan tanda petik duanya hanya 1 gak lebih.\n",
        "print('hello, for everyone loved him!')"
      ],
      "metadata": {
        "colab": {
          "base_uri": "https://localhost:8080/"
        },
        "id": "NV8SL8iu_xSS",
        "outputId": "9909b02d-76b4-46d9-fa2d-908f2c7f9bc4"
      },
      "execution_count": null,
      "outputs": [
        {
          "output_type": "stream",
          "name": "stdout",
          "text": [
            "hello, for everyone loved him!\n"
          ]
        }
      ]
    },
    {
      "cell_type": "markdown",
      "source": [
        "Latihan praktikum algoritma pemograman 1 guys\n"
      ],
      "metadata": {
        "id": "J8NgsMpkHFx2"
      }
    },
    {
      "cell_type": "code",
      "source": [
        "#Membuat sebuah Program untuk menampilkan biodata\n",
        "#ini sesuai contoh diatas ya, yaitu click shift+enter terlebih dahulu.\n",
        "#lalu ketik print('isi apapun') setelah itu bisa Shift Enter\n",
        "print('Nama           : Erlyn Nur Rizqi Maulidya')\n",
        "print(' ')\n",
        "print('NPM            : 2430506067')\n",
        "print(' ')\n",
        "print('Alamat         : Gang Nanas, Jl. Dumpoh Raya, Magelang, Jawa Tengah')\n",
        "print(' ')\n",
        "print('Tinggi Badan   : 154')\n",
        "print(' ')\n",
        "print('Berat Badan    : 60')\n"
      ],
      "metadata": {
        "id": "cPTNBUTFAktZ",
        "colab": {
          "base_uri": "https://localhost:8080/"
        },
        "outputId": "83903259-f420-4524-dbf6-b85dd8e52de1"
      },
      "execution_count": null,
      "outputs": [
        {
          "output_type": "stream",
          "name": "stdout",
          "text": [
            "Nama           : Erlyn Nur Rizqi Maulidya\n",
            " \n",
            "NPM            : 2430506067\n",
            " \n",
            "Alamat         : Gang Nanas, Jl. Dumpoh Raya, Magelang, Jawa Tengah\n",
            " \n",
            "Tinggi Badan   : 154\n",
            " \n",
            "Berat Badan    : 60\n"
          ]
        }
      ]
    },
    {
      "cell_type": "markdown",
      "source": [
        "Latihan Praktikum Algoritma Pemograman 2 guys"
      ],
      "metadata": {
        "id": "AQyoLhg_PBWU"
      }
    },
    {
      "cell_type": "code",
      "source": [
        "#membuat sebuah program untuk menampilkan tulisan\n",
        "#ini juga sama yaitu click shift enter\n",
        "#akan tetapi ini berbeda dengan sebelumnya karena akan ada tambahan bila ada beberapa kalimat yang akan di Bold dan ada juga yang harus di cetak miring.\n",
        "print ('\\033[1mUNIVERSITAS TIDAR\\033[0m')\n",
        "print ('Universitas Tidar merupakan Perguruan Tinggi Pemerintahan atau Perguruan Tinggi Negeri yang telah ditetapkan berdasarkan Peraturan Presiden Republik Indonesia Nomor 23 Tahun 2014 pada tanggal 1 April 2014  ')\n",
        "print ('')\n",
        "print ('\\033[1mJURUSAN TEKNIK ELEKTRO, MEKATRONIKA, DAN INFORMASI\\033[0m')\n",
        "print ('Jurusan Teknik Elektro terdiri atas tiga program studi, antara lain: ')\n",
        "print ('  1. S1 Teknik Elektro \\033[3m(Bachelor of Electrical Engineering)\\033[0m')\n",
        "print ('  2. S1 Teknologi Informasi \\033[3m(Bachelor of Informatian Technology)\\033[0m')\n",
        "print ('  3. S1 Teknik Mekatronika \\033[3m(Bachelor of mechatronics Engineering)\\033[0m')"
      ],
      "metadata": {
        "colab": {
          "base_uri": "https://localhost:8080/"
        },
        "id": "U1z4RRrIZLGd",
        "outputId": "ead22df4-e28b-40f7-80a4-55de2254d80e"
      },
      "execution_count": null,
      "outputs": [
        {
          "output_type": "stream",
          "name": "stdout",
          "text": [
            "\u001b[1mUNIVERSITAS TIDAR\u001b[0m\n",
            "Universitas Tidar merupakan Perguruan Tinggi Pemerintahan atau Perguruan Tinggi Negeri yang telah ditetapkan berdasarkan Peraturan Presiden Republik Indonesia Nomor 23 Tahun 2014 pada tanggal 1 April 2014  \n",
            "\n",
            "\u001b[1mJURUSAN TEKNIK ELEKTRO, MEKATRONIKA, DAN INFORMASI\u001b[0m\n",
            "Jurusan Teknik Elektro terdiri atas tiga program studi, antara lain: \n",
            "  1. S1 Teknik Elektro \u001b[3m(Bachelor of Electrical Engineering)\u001b[0m\n",
            "  2. S1 Teknologi Informasi \u001b[3m(Bachelor of Informatian Technology)\u001b[0m\n",
            "  3. S1 Teknik Mekatronika \u001b[3m(Bachelor of mechatronics Engineering)\u001b[0m\n"
          ]
        }
      ]
    },
    {
      "cell_type": "code",
      "source": [],
      "metadata": {
        "id": "GaceMXLllcNd"
      },
      "execution_count": null,
      "outputs": []
    }
  ]
}
