{
  "nbformat": 4,
  "nbformat_minor": 0,
  "metadata": {
    "colab": {
      "provenance": [],
      "authorship_tag": "ABX9TyM0v3TjIBZ3TSsh1qqEmVOD",
      "include_colab_link": true
    },
    "kernelspec": {
      "name": "python3",
      "display_name": "Python 3"
    },
    "language_info": {
      "name": "python"
    }
  },
  "cells": [
    {
      "cell_type": "markdown",
      "metadata": {
        "id": "view-in-github",
        "colab_type": "text"
      },
      "source": [
        "<a href=\"https://colab.research.google.com/github/erlynnur/erlynnur/blob/main/week_6.ipynb\" target=\"_parent\"><img src=\"https://colab.research.google.com/assets/colab-badge.svg\" alt=\"Open In Colab\"/></a>"
      ]
    },
    {
      "cell_type": "code",
      "source": [
        "range (16)"
      ],
      "metadata": {
        "colab": {
          "base_uri": "https://localhost:8080/"
        },
        "id": "PgPwi0CgXZGh",
        "outputId": "125942c6-241e-4b74-ed51-cdfc3001f00c"
      },
      "execution_count": 18,
      "outputs": [
        {
          "output_type": "execute_result",
          "data": {
            "text/plain": [
              "range(0, 16)"
            ]
          },
          "metadata": {},
          "execution_count": 18
        }
      ]
    },
    {
      "cell_type": "code",
      "source": [
        "# ini mau membuat for untuk loop\n",
        "tanggal = [28,29,30,31]\n",
        "N = int(4)\n",
        "\n",
        "for i in range(N):\n",
        "      print(tanggal[i])"
      ],
      "metadata": {
        "colab": {
          "base_uri": "https://localhost:8080/"
        },
        "id": "m_NQGnP1rCjv",
        "outputId": "4632b7a3-9b49-438b-8a7e-9ac8a4e0af2b"
      },
      "execution_count": 8,
      "outputs": [
        {
          "output_type": "stream",
          "name": "stdout",
          "text": [
            "28\n",
            "29\n",
            "30\n",
            "31\n"
          ]
        }
      ]
    },
    {
      "cell_type": "code",
      "source": [
        "# kalau ini mau membuat while loop\n",
        "tanggal = [16,17,18,19,20]\n",
        "i = 0\n",
        "angka = 0\n",
        "\n",
        "while(angka !=17):\n",
        "      angka = tanggal[i]\n",
        "      i = i + 1\n",
        "      print(angka)\n",
        "print(\"it took \", i ,\"repetitions to get out of loop\")\n"
      ],
      "metadata": {
        "colab": {
          "base_uri": "https://localhost:8080/"
        },
        "id": "K_bPkKNerCYJ",
        "outputId": "8111029f-4d57-4966-e8f3-ab1c45771846"
      },
      "execution_count": 16,
      "outputs": [
        {
          "output_type": "stream",
          "name": "stdout",
          "text": [
            "16\n",
            "17\n",
            "it took  2 repetitions to get out of loop\n"
          ]
        }
      ]
    },
    {
      "cell_type": "code",
      "source": [
        "# nah kalau ini membuat nested loop yang outer loop\n",
        "for i in range(16, 28):\n",
        "    # nested loop\n",
        "    for j in range(16, 28):\n",
        "        print(i * j, end=' ')\n",
        "    print()"
      ],
      "metadata": {
        "colab": {
          "base_uri": "https://localhost:8080/"
        },
        "id": "9GZDqPn6rCMs",
        "outputId": "89afa11c-d2da-4d3f-f9d4-3fc78fd69c8d"
      },
      "execution_count": 17,
      "outputs": [
        {
          "output_type": "stream",
          "name": "stdout",
          "text": [
            "256 272 288 304 320 336 352 368 384 400 416 432 \n",
            "272 289 306 323 340 357 374 391 408 425 442 459 \n",
            "288 306 324 342 360 378 396 414 432 450 468 486 \n",
            "304 323 342 361 380 399 418 437 456 475 494 513 \n",
            "320 340 360 380 400 420 440 460 480 500 520 540 \n",
            "336 357 378 399 420 441 462 483 504 525 546 567 \n",
            "352 374 396 418 440 462 484 506 528 550 572 594 \n",
            "368 391 414 437 460 483 506 529 552 575 598 621 \n",
            "384 408 432 456 480 504 528 552 576 600 624 648 \n",
            "400 425 450 475 500 525 550 575 600 625 650 675 \n",
            "416 442 468 494 520 546 572 598 624 650 676 702 \n",
            "432 459 486 513 540 567 594 621 648 675 702 729 \n"
          ]
        }
      ]
    },
    {
      "cell_type": "markdown",
      "source": [
        "weekly exercise 1\n",
        "\n"
      ],
      "metadata": {
        "id": "z68mhr433CZl"
      }
    },
    {
      "cell_type": "code",
      "execution_count": 19,
      "metadata": {
        "colab": {
          "base_uri": "https://localhost:8080/"
        },
        "id": "Bkt9uBuzufYp",
        "outputId": "5434447d-075b-4d43-dfdd-c37f7390d355"
      },
      "outputs": [
        {
          "output_type": "stream",
          "name": "stdout",
          "text": [
            "Input berapa tinggi segitiga bintang: 3\n",
            "\n",
            "   * \n",
            "  * * \n",
            " * * * \n"
          ]
        }
      ],
      "source": [
        "segitiga = int(input(\"Input berapa tinggi segitiga bintang: \"))\n",
        "print()\n",
        "\n",
        "for i in range(segitiga):\n",
        "  for j in range(segitiga-i):\n",
        "    print(\" \",end=\"\")\n",
        "\n",
        "\n",
        "  for k in range(i+1):\n",
        "    print(\"* \",end=\"\")\n",
        "  print()\n"
      ]
    },
    {
      "cell_type": "markdown",
      "source": [
        "weekly exercise 2\n",
        "\n"
      ],
      "metadata": {
        "id": "pG4VQJFU2-3z"
      }
    },
    {
      "cell_type": "code",
      "source": [
        "pascal = int(input(\"input berapa banyak segitiga pascal: \"))\n",
        "for i in range(pascal):\n",
        "     print(\" \" * (pascal - i), end=\" \")\n",
        "     a = 1\n",
        "     for j in range(i+1):\n",
        "        print(a, end=\" \")\n",
        "        a = a * (i - j) // (j + 1)\n",
        "     print()"
      ],
      "metadata": {
        "colab": {
          "base_uri": "https://localhost:8080/"
        },
        "id": "pw7vyiP8v6kr",
        "outputId": "fcc95898-255b-4c20-9ce9-3a54584e5483"
      },
      "execution_count": 20,
      "outputs": [
        {
          "output_type": "stream",
          "name": "stdout",
          "text": [
            "input berapa banyak segitiga pascal: 3\n",
            "    1 \n",
            "   1 1 \n",
            "  1 2 1 \n"
          ]
        }
      ]
    },
    {
      "cell_type": "markdown",
      "source": [
        "Weekly exercise 3"
      ],
      "metadata": {
        "id": "HZRgxyVW275I"
      }
    },
    {
      "cell_type": "code",
      "source": [
        "a = int(input(\"masukkan angka: \"))\n",
        "\n",
        "a = a - 1\n",
        "b = 1\n",
        "jumlah = 0\n",
        "\n",
        "for j in range(a + 1):\n",
        "    print(b, end=\" \")\n",
        "    jumlah += b\n",
        "    b = b * (a - j) // (j + 1)\n",
        "print(f\"\\n hayo dibaris ke \", a + 1, \"adalah\", jumlah)"
      ],
      "metadata": {
        "id": "q3p0-_Zl15mv",
        "colab": {
          "base_uri": "https://localhost:8080/"
        },
        "outputId": "36fe38d4-6503-4e7d-8d11-733952c19953"
      },
      "execution_count": 1,
      "outputs": [
        {
          "output_type": "stream",
          "name": "stdout",
          "text": [
            "masukkan angka: 6\n",
            "1 5 10 10 5 1 \n",
            " hayo dibaris ke  6 adalah 32\n"
          ]
        }
      ]
    },
    {
      "cell_type": "code",
      "source": [],
      "metadata": {
        "id": "7ZA7PTJxCOZ8"
      },
      "execution_count": 4,
      "outputs": []
    }
  ]
}