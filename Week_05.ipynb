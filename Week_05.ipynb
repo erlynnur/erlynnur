{
  "nbformat": 4,
  "nbformat_minor": 0,
  "metadata": {
    "colab": {
      "provenance": [],
      "authorship_tag": "ABX9TyOJqHaiGuxesc1ew98c3PxO",
      "include_colab_link": true
    },
    "kernelspec": {
      "name": "python3",
      "display_name": "Python 3"
    },
    "language_info": {
      "name": "python"
    }
  },
  "cells": [
    {
      "cell_type": "markdown",
      "metadata": {
        "id": "view-in-github",
        "colab_type": "text"
      },
      "source": [
        "<a href=\"https://colab.research.google.com/github/erlynnur/erlynnur/blob/main/Weekly_5_nih.ipynb\" target=\"_parent\"><img src=\"https://colab.research.google.com/assets/colab-badge.svg\" alt=\"Open In Colab\"/></a>"
      ]
    },
    {
      "cell_type": "markdown",
      "source": [
        "Weekly Exercise 1"
      ],
      "metadata": {
        "id": "1sric1sJOZ3r"
      }
    },
    {
      "cell_type": "code",
      "execution_count": null,
      "metadata": {
        "colab": {
          "base_uri": "https://localhost:8080/"
        },
        "id": "w_ANwu2WMs5r",
        "outputId": "6938d9c9-85f0-4418-d937-ef7486f81b4b"
      },
      "outputs": [
        {
          "output_type": "stream",
          "name": "stdout",
          "text": [
            "Masukkan Tahun Kabisat : 1999\n",
            "Kalau ini bukan tahun kabisat ya gais\n"
          ]
        }
      ],
      "source": [
        "Tahun = int(input(\"Masukkan Tahun Kabisat : \"))\n",
        "\n",
        "if (Tahun % 4 ==0):\n",
        "    print (\"Ini tahun kabisat gais\")\n",
        "else:\n",
        "    if (Tahun % 100 ==0):\n",
        "        print (\"Ini bukan tahun kabisat gais\")\n",
        "    else:\n",
        "        if (Tahun % 400 ==0):\n",
        "            print (\"Ini tahun kabisat gais\")\n",
        "        else:\n",
        "            print (\"Kalau ini bukan tahun kabisat ya gais\")\n"
      ]
    },
    {
      "cell_type": "code",
      "source": [
        "Tahun = int(input(\"Masukkan Tahun Kabisat : \"))\n",
        "\n",
        "if (Tahun % 4 ==0):\n",
        "    print (\"Ini tahun kabisat gais\")\n",
        "else:\n",
        "    if (Tahun % 100 ==0):\n",
        "        print (\"Ini bukan tahun kabisat gais\")\n",
        "    else:\n",
        "        if (Tahun % 400 ==0):\n",
        "            print (\"Ini tahun kabisat gais\")\n",
        "        else:\n",
        "            print (\"Kalau ini bukan tahun kabisat ya gais\")"
      ],
      "metadata": {
        "colab": {
          "base_uri": "https://localhost:8080/"
        },
        "id": "jgZukC6qM227",
        "outputId": "517b6515-4500-4d6c-ea34-a81c4d905ba6"
      },
      "execution_count": null,
      "outputs": [
        {
          "output_type": "stream",
          "name": "stdout",
          "text": [
            "Masukkan Tahun Kabisat : 2000\n",
            "Ini tahun kabisat gais\n"
          ]
        }
      ]
    },
    {
      "cell_type": "markdown",
      "source": [
        "Weekly Exercise 2"
      ],
      "metadata": {
        "id": "LdEVeMmRPLJU"
      }
    },
    {
      "cell_type": "code",
      "source": [
        "angka1 = float(input(\"Masukkan angka pertamamu ya: \"))\n",
        "angka2 = float(input(\"Masukkan angka keduamu ya: \"))\n",
        "angka3 = float(input(\"Masukkan angka ketigamu ya: \"))\n",
        "\n",
        "if angka1 > angka2 and angka1 > angka3:\n",
        "    angka_terbesarnya = angka1\n",
        "elif angka2 > angka1 and angka2  > angka3:\n",
        "    angka_terbesarnya = angka2\n",
        "else:\n",
        "    angka_terbesarnya = angka3\n",
        "\n",
        "print(\"angka terbesarnya itu:\", angka_terbesarnya )"
      ],
      "metadata": {
        "colab": {
          "base_uri": "https://localhost:8080/"
        },
        "id": "irvZtIbDM_1R",
        "outputId": "9edb2bde-824b-4abf-80d0-fe2ec7f1a982"
      },
      "execution_count": null,
      "outputs": [
        {
          "output_type": "stream",
          "name": "stdout",
          "text": [
            "Masukkan angka pertamamu ya: 20\n",
            "Masukkan angka keduamu ya: 90\n",
            "Masukkan angka ketigamu ya: 80\n",
            "angka terbesarnya itu: 90.0\n"
          ]
        }
      ]
    },
    {
      "cell_type": "markdown",
      "source": [
        "Weekly Exercise 3"
      ],
      "metadata": {
        "id": "ul2DFtHkPPCz"
      }
    },
    {
      "cell_type": "code",
      "source": [
        "jenis_konsumennya = input(\"Masukkan jenis konsumen yang member atau non member:\")\n",
        "total_belanjaan = float(input(\"Masukkan total belanjaanmu:\"))\n",
        "\n",
        "diskon = 0.0\n",
        "\n",
        "if total_belanjaan > 200.000:\n",
        "    diskon = 0.04 # diskonnya 4%\n",
        "elif total_belanjaan > 100.000:\n",
        "    diskon = 0.03 # diskonnya 3%\n",
        "\n",
        "if jenis_konsumennya == \"member\":\n",
        "  diskon += 0.02 # ini tuh tambahan diskon untuk member 2%\n",
        "\n",
        "total_belanjaan = total_belanjaan\n",
        "total_diskon = total_belanjaan * diskon\n",
        "jumlah_kamu_bayar = total_belanjaan - total_diskon\n",
        "\n",
        "print(\"total belanjaan kamu adalah:\", total_belanjaan)\n",
        "print(\"diskon yang kamu terima adalah:\", total_diskon)\n",
        "print(\"total yang harus kamu bayar adalah:\", jumlah_kamu_bayar)"
      ],
      "metadata": {
        "colab": {
          "base_uri": "https://localhost:8080/"
        },
        "id": "NE3E1J4yNOco",
        "outputId": "fe2bb67d-d298-4676-f475-006af08339ac"
      },
      "execution_count": null,
      "outputs": [
        {
          "output_type": "stream",
          "name": "stdout",
          "text": [
            "Masukkan jenis konsumen yang member atau non member:member\n",
            "Masukkan total belanjaanmu:250000\n",
            "total belanjaan kamu adalah: 250000.0\n",
            "diskon yang kamu terima adalah: 15000.0\n",
            "total yang harus kamu bayar adalah: 235000.0\n"
          ]
        }
      ]
    },
    {
      "cell_type": "markdown",
      "source": [
        "Weekly Exercise 4"
      ],
      "metadata": {
        "id": "UkuFy0xzPSMA"
      }
    },
    {
      "cell_type": "code",
      "source": [
        "username = input(\"yuk masukkan username kamu: \")\n",
        "email = input(\"yuk masukkan email kamu: \")\n",
        "password = input(\"nah sekarang masukkan password kamu: \")\n",
        "\n",
        "if not username:\n",
        "  print(\"username gak boleh kosong ya\")\n",
        "  print(\"nah kan gak bisa dibuat hayolohh\")\n",
        "elif \"@\" not in email:\n",
        "  print(\"email juga gak boleh kosong ya\")\n",
        "  print(\"nah kan gak bisa dibuat hayolohh\")\n",
        "elif not len(password) > 8:\n",
        "  print(\"nah kan gak bisa dibuat hayolohh\")\n",
        "else:\n",
        "  print(\"yeyyy user bisa dibuat\")"
      ],
      "metadata": {
        "colab": {
          "base_uri": "https://localhost:8080/"
        },
        "id": "PtEkfOrfNmXO",
        "outputId": "86560144-84e3-422f-8538-1b54b2de091e"
      },
      "execution_count": null,
      "outputs": [
        {
          "output_type": "stream",
          "name": "stdout",
          "text": [
            "yuk masukkan username kamu: errlynnur\n",
            "yuk masukkan email kamu: erlyn89@gmail.com\n",
            "nah sekarang masukkan password kamu: errlyn12345\n",
            "yeyyy user bisa dibuat\n"
          ]
        }
      ]
    },
    {
      "cell_type": "code",
      "source": [],
      "metadata": {
        "id": "VkwjZftIN9Y_"
      },
      "execution_count": null,
      "outputs": []
    }
  ]
}
