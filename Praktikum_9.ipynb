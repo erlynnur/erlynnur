{
  "nbformat": 4,
  "nbformat_minor": 0,
  "metadata": {
    "colab": {
      "provenance": [],
      "authorship_tag": "ABX9TyMVpaFr1DKkC8ILD0SO5BAO",
      "include_colab_link": true
    },
    "kernelspec": {
      "name": "python3",
      "display_name": "Python 3"
    },
    "language_info": {
      "name": "python"
    }
  },
  "cells": [
    {
      "cell_type": "markdown",
      "metadata": {
        "id": "view-in-github",
        "colab_type": "text"
      },
      "source": [
        "<a href=\"https://colab.research.google.com/github/erlynnur/erlynnur/blob/main/Praktikum_9.ipynb\" target=\"_parent\"><img src=\"https://colab.research.google.com/assets/colab-badge.svg\" alt=\"Open In Colab\"/></a>"
      ]
    },
    {
      "cell_type": "markdown",
      "source": [
        "python list\n"
      ],
      "metadata": {
        "id": "LmklQMVfkW4L"
      }
    },
    {
      "cell_type": "code",
      "execution_count": null,
      "metadata": {
        "colab": {
          "base_uri": "https://localhost:8080/"
        },
        "id": "ZlO0w9rSjILQ",
        "outputId": "0391b586-70f0-4ccc-d054-8caa77cbb1e2"
      },
      "outputs": [
        {
          "output_type": "stream",
          "name": "stdout",
          "text": [
            "['Abimanyu', 'Revi', 'Faiz']\n"
          ]
        }
      ],
      "source": [
        "listnya = [\"Abimanyu\", \"Revi\", \"Faiz\"]\n",
        "print(listnya)"
      ]
    },
    {
      "cell_type": "code",
      "source": [
        "#untuk menentukan berapa banyak yang ada pada kalimat\n",
        "listnya = [\"Abimanyu\", \"Revi\", \"Faiz\"]\n",
        "print(len(listnya))"
      ],
      "metadata": {
        "colab": {
          "base_uri": "https://localhost:8080/"
        },
        "id": "jlQ3qwqOlUxz",
        "outputId": "44dac26e-23bb-4681-98f5-72c355408c8e"
      },
      "execution_count": null,
      "outputs": [
        {
          "output_type": "stream",
          "name": "stdout",
          "text": [
            "3\n"
          ]
        }
      ]
    },
    {
      "cell_type": "code",
      "source": [
        "#Membuat list daftar belanjaan\n",
        "list1 = [\"Tempe\", \"Tahu\", \"Ikan pindang\"]\n",
        "list2 = [2, 5, 8]\n",
        "list3 = [True, True, True]\n",
        "print(list1)\n",
        "print(list2)\n",
        "print(list3)"
      ],
      "metadata": {
        "colab": {
          "base_uri": "https://localhost:8080/"
        },
        "id": "O22LmDgil_tM",
        "outputId": "8bdd0e54-b149-4431-ea8c-b38b8e81eb55"
      },
      "execution_count": null,
      "outputs": [
        {
          "output_type": "stream",
          "name": "stdout",
          "text": [
            "['Tempe', 'Tahu', 'Ikan pindang']\n",
            "[2, 5, 8]\n",
            "[True, True, True]\n"
          ]
        }
      ]
    },
    {
      "cell_type": "code",
      "source": [
        "listnya = [\"Abimanyu\", \"Revi\", \"Faiz\"]\n",
        "print(type(listnya))"
      ],
      "metadata": {
        "colab": {
          "base_uri": "https://localhost:8080/"
        },
        "id": "ExG83HQDm37A",
        "outputId": "8d291120-dd15-481d-cc04-c42f44274467"
      },
      "execution_count": null,
      "outputs": [
        {
          "output_type": "stream",
          "name": "stdout",
          "text": [
            "<class 'list'>\n"
          ]
        }
      ]
    },
    {
      "cell_type": "code",
      "source": [
        "listnya = [\"Abimanyu\", \"Revi\", \"Faiz\"]\n",
        "print(listnya[2])"
      ],
      "metadata": {
        "colab": {
          "base_uri": "https://localhost:8080/"
        },
        "id": "5ihHomKxnMwH",
        "outputId": "7b0f4edc-2031-4e98-8a3e-b4d11896607b"
      },
      "execution_count": null,
      "outputs": [
        {
          "output_type": "stream",
          "name": "stdout",
          "text": [
            "Faiz\n"
          ]
        }
      ]
    },
    {
      "cell_type": "code",
      "source": [
        "listnya = [\"Abimanyu\", \"Revi\", \"Faiz\"]\n",
        "print(listnya[-2])"
      ],
      "metadata": {
        "colab": {
          "base_uri": "https://localhost:8080/"
        },
        "id": "wGmMBFSlnbjH",
        "outputId": "4b4aebad-549c-4ca7-caff-2cc42ccf9aac"
      },
      "execution_count": null,
      "outputs": [
        {
          "output_type": "stream",
          "name": "stdout",
          "text": [
            "Revi\n"
          ]
        }
      ]
    },
    {
      "cell_type": "code",
      "source": [
        "listnya = [\"Abimanyu\", \"Revi\", \"Faiz\", \"Oci\", \"Tintin\", \"Dudut\", \"Amoy\", \"Bujel\"]\n",
        "print(listnya[4:6])\n",
        "print(listnya[:7])\n",
        "print(listnya[-6:-4])\n",
        "print(listnya[4:-2])\n",
        "listnya.clear()\n",
        "del listnya"
      ],
      "metadata": {
        "colab": {
          "base_uri": "https://localhost:8080/"
        },
        "id": "3hl_pgfunqJB",
        "outputId": "5080daba-0d0a-4c50-ea40-bc0000f3697a"
      },
      "execution_count": null,
      "outputs": [
        {
          "output_type": "stream",
          "name": "stdout",
          "text": [
            "['Tintin', 'Dudut']\n",
            "['Abimanyu', 'Revi', 'Faiz', 'Oci', 'Tintin', 'Dudut', 'Amoy']\n",
            "['Faiz', 'Oci']\n",
            "['Tintin', 'Dudut']\n"
          ]
        }
      ]
    },
    {
      "cell_type": "markdown",
      "source": [],
      "metadata": {
        "id": "IbTBiQdcsMuq"
      }
    },
    {
      "cell_type": "markdown",
      "metadata": {
        "id": "GCEGkOO8jf5w"
      },
      "source": [
        "## <h3 id=\"WeeklyExercise1\">Weekly Exercise 2</h3>\n",
        "- Buatlah dan tentukan tipe collection untuk mengelola data kalian dengan rincian di bawah :<br/>\n",
        "    Nama : nama mahasiswa <br/>\n",
        "    Kelas : kelas mahasiswa <br/>\n",
        "    Tanggal Lahir : tanggal lahir mahasiswa <br/>\n",
        "    no hp : no hp mahasiswa <br/>\n",
        "    alamat : alamat mahasiswa <br/>\n",
        "    Hobi : <br/>\n",
        "    1. Hobi 1 <br/>\n",
        "    2. Hobi 2 <br/>\n",
        "    3. dst <br/>\n",
        "- Tampilkan seluruh data dengan teknik perulangan"
      ]
    },
    {
      "cell_type": "code",
      "source": [
        "Data_Mahasiswa = {\n",
        "\"Nama\"            : \"Erlyn Nur Rizqi Maulidya\",\n",
        "\"Kelas\"           : \"Rombel 1\",\n",
        "\"Tanggal lahir\"   : \"28 Maret 2007\",\n",
        "\"No hp\"           : \"08487343876387\",\n",
        "\"Alamat\"          : \"Dumpoh raya\",\n",
        "\"Hobi\"            :[\"Membaca Alternative Universe\", \"Memasak\"],\n",
        "}\n",
        "\n",
        "for key, value in Data_Mahasiswa.items():\n",
        "    if isinstance(value, list):\n",
        "      print(f\"{key}:\")\n",
        "      for index, hobi in enumerate(value, start=1):\n",
        "        print(f\" {index}. {hobi}\")\n",
        "    else:\n",
        "      print(f\"{key}: {value}\")"
      ],
      "metadata": {
        "id": "SXuQf7571cnz",
        "colab": {
          "base_uri": "https://localhost:8080/"
        },
        "outputId": "5ae2ccd7-f1a2-40dd-8d06-0b85acf74cd1"
      },
      "execution_count": 6,
      "outputs": [
        {
          "output_type": "stream",
          "name": "stdout",
          "text": [
            "Nama: Erlyn Nur Rizqi Maulidya\n",
            "Kelas: Rombel 1\n",
            "Tanggal lahir: 28 Maret 2007\n",
            "No hp: 08487343876387\n",
            "Alamat: Dumpoh raya\n",
            "Hobi:\n",
            " 1. Membaca Alternative Universe\n",
            " 2. Memasak\n"
          ]
        }
      ]
    },
    {
      "cell_type": "code",
      "source": [],
      "metadata": {
        "id": "8AwCTT3dCnnq"
      },
      "execution_count": null,
      "outputs": []
    }
  ]
}