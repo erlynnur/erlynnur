{
  "nbformat": 4,
  "nbformat_minor": 0,
  "metadata": {
    "colab": {
      "provenance": [],
      "authorship_tag": "ABX9TyMJryf0YkXc7/E2gVmcKUXa",
      "include_colab_link": true
    },
    "kernelspec": {
      "name": "python3",
      "display_name": "Python 3"
    },
    "language_info": {
      "name": "python"
    }
  },
  "cells": [
    {
      "cell_type": "markdown",
      "metadata": {
        "id": "view-in-github",
        "colab_type": "text"
      },
      "source": [
        "<a href=\"https://colab.research.google.com/github/erlynnur/erlynnur/blob/main/Week_02.ipynb\" target=\"_parent\"><img src=\"https://colab.research.google.com/assets/colab-badge.svg\" alt=\"Open In Colab\"/></a>"
      ]
    },
    {
      "cell_type": "code",
      "execution_count": null,
      "metadata": {
        "id": "ci_SFve9CuSw",
        "colab": {
          "base_uri": "https://localhost:8080/"
        },
        "outputId": "efa1bd09-63c8-4d23-e83d-59a263ebcebf"
      },
      "outputs": [
        {
          "output_type": "execute_result",
          "data": {
            "text/plain": [
              "16"
            ]
          },
          "metadata": {},
          "execution_count": 3
        }
      ],
      "source": [
        "# integer\n",
        "\n",
        "16"
      ]
    },
    {
      "cell_type": "code",
      "source": [
        "# Float\n",
        "\n",
        "16.3"
      ],
      "metadata": {
        "colab": {
          "base_uri": "https://localhost:8080/"
        },
        "id": "t-m0PZpMMpFa",
        "outputId": "8eadf256-9910-49d3-efdb-a27783bbc0be"
      },
      "execution_count": null,
      "outputs": [
        {
          "output_type": "execute_result",
          "data": {
            "text/plain": [
              "16.3"
            ]
          },
          "metadata": {},
          "execution_count": 4
        }
      ]
    },
    {
      "cell_type": "code",
      "source": [
        "# String\n",
        "\n",
        "#print(\"Hello, Ocii 16!\")\n",
        "#print(\"Hello, ocii 03!\")\n",
        "\n",
        "\"Hello, ocii 16!\"\n",
        "#\"Hello, ocii 03!\""
      ],
      "metadata": {
        "colab": {
          "base_uri": "https://localhost:8080/",
          "height": 36
        },
        "id": "5YCjg2I5NOdf",
        "outputId": "2ebe6f07-af8d-4cf6-91c8-a311d3a3148f"
      },
      "execution_count": null,
      "outputs": [
        {
          "output_type": "execute_result",
          "data": {
            "text/plain": [
              "'Hello, ocii 16!'"
            ],
            "application/vnd.google.colaboratory.intrinsic+json": {
              "type": "string"
            }
          },
          "metadata": {},
          "execution_count": 5
        }
      ]
    },
    {
      "cell_type": "code",
      "source": [
        "# type of 16\n",
        "type (16)"
      ],
      "metadata": {
        "colab": {
          "base_uri": "https://localhost:8080/"
        },
        "id": "KbDoGwL9OeW9",
        "outputId": "60007db7-15aa-4202-d0da-2510e6cc17ea"
      },
      "execution_count": null,
      "outputs": [
        {
          "output_type": "execute_result",
          "data": {
            "text/plain": [
              "int"
            ]
          },
          "metadata": {},
          "execution_count": 6
        }
      ]
    },
    {
      "cell_type": "code",
      "source": [
        "# type of 16.3\n",
        "type (16.3)"
      ],
      "metadata": {
        "colab": {
          "base_uri": "https://localhost:8080/"
        },
        "id": "bjGD9SdUQOMZ",
        "outputId": "1213f70f-ef32-4cbf-e432-f476b0ce536f"
      },
      "execution_count": null,
      "outputs": [
        {
          "output_type": "execute_result",
          "data": {
            "text/plain": [
              "float"
            ]
          },
          "metadata": {},
          "execution_count": 8
        }
      ]
    },
    {
      "cell_type": "code",
      "source": [
        "# type of \"Hello, ocii!\"\n",
        "type(\"Hello, ocii!\")"
      ],
      "metadata": {
        "colab": {
          "base_uri": "https://localhost:8080/"
        },
        "id": "2wexZEKFQyrn",
        "outputId": "91139052-75bb-4761-fb8c-d76f9f322b6e"
      },
      "execution_count": null,
      "outputs": [
        {
          "output_type": "execute_result",
          "data": {
            "text/plain": [
              "str"
            ]
          },
          "metadata": {},
          "execution_count": 9
        }
      ]
    },
    {
      "cell_type": "code",
      "source": [
        "# write your code below. Jangan lupa untuk click Shift+Enter untuk mengeksekusi\n",
        "type(16.3)"
      ],
      "metadata": {
        "colab": {
          "base_uri": "https://localhost:8080/"
        },
        "id": "1N-rYjZERsbo",
        "outputId": "a17c5302-baa2-431a-b4ad-acadc7c9e6dd"
      },
      "execution_count": null,
      "outputs": [
        {
          "output_type": "execute_result",
          "data": {
            "text/plain": [
              "float"
            ]
          },
          "metadata": {},
          "execution_count": 10
        }
      ]
    },
    {
      "cell_type": "code",
      "source": [
        "# print the type of -4\n",
        "type(-4)"
      ],
      "metadata": {
        "colab": {
          "base_uri": "https://localhost:8080/"
        },
        "id": "Sauogwd2TC7h",
        "outputId": "384a2a00-467d-422e-aeb7-2b815825e15c"
      },
      "execution_count": null,
      "outputs": [
        {
          "output_type": "execute_result",
          "data": {
            "text/plain": [
              "int"
            ]
          },
          "metadata": {},
          "execution_count": 11
        }
      ]
    },
    {
      "cell_type": "code",
      "source": [
        "type (-9)"
      ],
      "metadata": {
        "colab": {
          "base_uri": "https://localhost:8080/"
        },
        "id": "m2148TO5ThiC",
        "outputId": "a578abd4-0ef0-4589-d03c-e1757524346c"
      },
      "execution_count": null,
      "outputs": [
        {
          "output_type": "execute_result",
          "data": {
            "text/plain": [
              "int"
            ]
          },
          "metadata": {},
          "execution_count": 12
        }
      ]
    },
    {
      "cell_type": "code",
      "source": [
        "# print the type of 16\n",
        "type(16)"
      ],
      "metadata": {
        "colab": {
          "base_uri": "https://localhost:8080/"
        },
        "id": "dSZI2R1NTwZZ",
        "outputId": "0ffe791f-8275-4729-8161-15e9b9e6b662"
      },
      "execution_count": null,
      "outputs": [
        {
          "output_type": "execute_result",
          "data": {
            "text/plain": [
              "int"
            ]
          },
          "metadata": {},
          "execution_count": 13
        }
      ]
    },
    {
      "cell_type": "code",
      "source": [
        "# print the type of 1\n",
        "type(1)"
      ],
      "metadata": {
        "colab": {
          "base_uri": "https://localhost:8080/"
        },
        "id": "iic45DS8T-qS",
        "outputId": "a60b0a9f-1356-47f6-869b-9731a2d6bc96"
      },
      "execution_count": null,
      "outputs": [
        {
          "output_type": "execute_result",
          "data": {
            "text/plain": [
              "int"
            ]
          },
          "metadata": {},
          "execution_count": 14
        }
      ]
    },
    {
      "cell_type": "code",
      "source": [
        "# print the type of 2.0\n",
        "type(2.0) # perhatikan kalau 1 itu int dan 2.0 itu float"
      ],
      "metadata": {
        "colab": {
          "base_uri": "https://localhost:8080/"
        },
        "id": "hGMo4LqDUdAW",
        "outputId": "ded906cb-e31d-454d-cbb3-502e3d58d9d0"
      },
      "execution_count": null,
      "outputs": [
        {
          "output_type": "execute_result",
          "data": {
            "text/plain": [
              "float"
            ]
          },
          "metadata": {},
          "execution_count": 15
        }
      ]
    },
    {
      "cell_type": "code",
      "source": [
        "# Print the type of 0.2\n",
        "type(0.2)"
      ],
      "metadata": {
        "colab": {
          "base_uri": "https://localhost:8080/"
        },
        "id": "jgxSSRp_XqTY",
        "outputId": "890264d9-8b82-4525-ab48-6f13e613e2f6"
      },
      "execution_count": null,
      "outputs": [
        {
          "output_type": "execute_result",
          "data": {
            "text/plain": [
              "float"
            ]
          },
          "metadata": {},
          "execution_count": 17
        }
      ]
    },
    {
      "cell_type": "code",
      "source": [
        "# Print the type of 0.28\n",
        "type(0.28)"
      ],
      "metadata": {
        "colab": {
          "base_uri": "https://localhost:8080/"
        },
        "id": "ZsBR_LSNYK5o",
        "outputId": "e8a61493-7986-4915-d114-7691f3e40130"
      },
      "execution_count": null,
      "outputs": [
        {
          "output_type": "execute_result",
          "data": {
            "text/plain": [
              "float"
            ]
          },
          "metadata": {},
          "execution_count": 18
        }
      ]
    },
    {
      "cell_type": "code",
      "source": [
        "# System settings about float type\n",
        "import sys # it is needs to declare the library \"sys\" before usit it\n",
        "sys.float_info"
      ],
      "metadata": {
        "colab": {
          "base_uri": "https://localhost:8080/"
        },
        "id": "NvXT7fMSY-wL",
        "outputId": "f5f1cb51-5683-4bcd-e1e6-6c3b6435d08f"
      },
      "execution_count": null,
      "outputs": [
        {
          "output_type": "execute_result",
          "data": {
            "text/plain": [
              "sys.float_info(max=1.7976931348623157e+308, max_exp=1024, max_10_exp=308, min=2.2250738585072014e-308, min_exp=-1021, min_10_exp=-307, dig=15, mant_dig=53, epsilon=2.220446049250313e-16, radix=2, rounds=1)"
            ]
          },
          "metadata": {},
          "execution_count": 19
        }
      ]
    },
    {
      "cell_type": "code",
      "source": [
        "# verifikasi bahwa ini adalah bilangan bulat\n",
        "type(16)"
      ],
      "metadata": {
        "colab": {
          "base_uri": "https://localhost:8080/"
        },
        "id": "B9c26pwCZn-w",
        "outputId": "57356f28-b89d-4973-8b88-328db7236958"
      },
      "execution_count": null,
      "outputs": [
        {
          "output_type": "execute_result",
          "data": {
            "text/plain": [
              "int"
            ]
          },
          "metadata": {},
          "execution_count": 1
        }
      ]
    },
    {
      "cell_type": "code",
      "source": [
        "# ubahlah 16 ke desimal\n",
        "float(16)"
      ],
      "metadata": {
        "colab": {
          "base_uri": "https://localhost:8080/"
        },
        "id": "W-ne-e0BdcjJ",
        "outputId": "4b1367d3-1d2e-4dd3-ddce-e363971b13ad"
      },
      "execution_count": null,
      "outputs": [
        {
          "output_type": "execute_result",
          "data": {
            "text/plain": [
              "16.0"
            ]
          },
          "metadata": {},
          "execution_count": 2
        }
      ]
    },
    {
      "cell_type": "markdown",
      "source": [
        "Weekly Exercise 1"
      ],
      "metadata": {
        "id": "LRgZHLmUnxlo"
      }
    },
    {
      "cell_type": "code",
      "source": [
        "#input variabel\n",
        "panjang = 20.5\n",
        "lebar = 25\n",
        "tinggi = 10\n",
        "\n",
        "#menghitung keliling\n",
        "keliling = 2 * (panjang + lebar)\n",
        "\n",
        "#menghitung luas\n",
        "luas = (panjang * lebar)\n",
        "\n",
        "#menghitung volume\n",
        "volume = panjang * lebar * tinggi\n",
        "\n",
        "#output\n",
        "print('Panjang =', panjang)\n",
        "print('Lebar =', lebar)\n",
        "print('Tinggi =', tinggi)\n",
        "print('Keliling =', keliling)\n",
        "print('Luas =', luas)\n",
        "print('Volume =', volume)"
      ],
      "metadata": {
        "id": "R9lap041dybL",
        "colab": {
          "base_uri": "https://localhost:8080/"
        },
        "outputId": "dab31099-8baa-451d-81f4-75d4d44aea12"
      },
      "execution_count": 14,
      "outputs": [
        {
          "output_type": "stream",
          "name": "stdout",
          "text": [
            "Panjang = 20.5\n",
            "Lebar = 25\n",
            "Tinggi = 10\n",
            "Keliling = 91.0\n",
            "Luas = 512.5\n",
            "Volume = 5125.0\n"
          ]
        }
      ]
    },
    {
      "cell_type": "markdown",
      "source": [
        "Weekly Exercise 2"
      ],
      "metadata": {
        "id": "V10Oijfmntxl"
      }
    },
    {
      "cell_type": "code",
      "source": [
        "#Ada data mahasiswa\n",
        "nama  = 'Shafira kalk 85, statis 75'\n",
        "print(nama)\n",
        "nama  = 'Amanda kalk 80, statis 90'\n",
        "print(nama)\n",
        "nama = 'Aditya kalk 75, statis 80'\n",
        "print(nama)\n",
        "nama = 'Nedia kalk 95, statis 80'\n",
        "print(nama)\n",
        "nama = 'Widya kalk 85, statis 85'\n",
        "print(nama)\n",
        "nama = 'Hanif kalk 75, statis 90'\n",
        "print(nama)\n",
        "nama = 'Andi kalk 70, statis 75'\n",
        "print(nama)\n",
        "nama = 'Dhanar kalk 85, statis 85'\n",
        "print(nama)\n",
        "nama = 'Hikma kalk 80, statis 75'\n",
        "print(nama)"
      ],
      "metadata": {
        "id": "Nm5XQuetBXnR",
        "colab": {
          "base_uri": "https://localhost:8080/"
        },
        "outputId": "84c2d2a7-c349-4df6-8f05-bdf5bb58f6a4"
      },
      "execution_count": 15,
      "outputs": [
        {
          "output_type": "stream",
          "name": "stdout",
          "text": [
            "Shafira kalk 85, statis 75\n",
            "Amanda kalk 80, statis 90\n",
            "Aditya kalk 75, statis 80\n",
            "Nedia kalk 95, statis 80\n",
            "Widya kalk 85, statis 85\n",
            "Hanif kalk 75, statis 90\n",
            "Andi kalk 70, statis 75\n",
            "Dhanar kalk 85, statis 85\n",
            "Hikma kalk 80, statis 75\n"
          ]
        }
      ]
    },
    {
      "cell_type": "code",
      "source": [
        "# 1. Rata rata nilai Shafira pada kedua mata kuliah\n",
        "Rata_rata_nilai_shafira= ((85 + 75)/2)\n",
        "print(Rata_rata_nilai_shafira)"
      ],
      "metadata": {
        "colab": {
          "base_uri": "https://localhost:8080/"
        },
        "id": "G_eUfLIvMHOp",
        "outputId": "02a351fc-ab22-469f-a83b-e89d987e3867"
      },
      "execution_count": 16,
      "outputs": [
        {
          "output_type": "stream",
          "name": "stdout",
          "text": [
            "80.0\n"
          ]
        }
      ]
    },
    {
      "cell_type": "code",
      "source": [
        "# 2. Jumlah nilai hanif dan adi untuk semua mata kuliah\n",
        "Jumlah_nilai_hanif= (75 + 90)\n",
        "Jumlah_nilai_adi= (70 +75)\n",
        "print(Jumlah_nilai_hanif + Jumlah_nilai_adi)"
      ],
      "metadata": {
        "colab": {
          "base_uri": "https://localhost:8080/"
        },
        "id": "1Un5wdEEODpW",
        "outputId": "2e872a15-793b-4020-f89e-721b8088d882"
      },
      "execution_count": 17,
      "outputs": [
        {
          "output_type": "stream",
          "name": "stdout",
          "text": [
            "310\n"
          ]
        }
      ]
    },
    {
      "cell_type": "code",
      "source": [
        "# 3. Rata rata nilai Widya, Dhanar, Hikma.dan Nedia (WDHN) pada masing masing mata kuliah\n",
        "Rata_rata_nilai_Kalkulus_WDHN= ((85 + 85+ 80+ 95)/4)\n",
        "Rata_rata_nilai_Statiska_WDHN= ((85 + 85+ 75+80)/4)\n",
        "print(Rata_rata_nilai_Kalkulus_WDHN)\n",
        "print(Rata_rata_nilai_Statiska_WDHN)"
      ],
      "metadata": {
        "id": "i9NQ3jsnX5Eq",
        "colab": {
          "base_uri": "https://localhost:8080/"
        },
        "outputId": "0094d662-ddf4-41fb-d660-87a938b97d30"
      },
      "execution_count": 18,
      "outputs": [
        {
          "output_type": "stream",
          "name": "stdout",
          "text": [
            "86.25\n",
            "81.25\n"
          ]
        }
      ]
    },
    {
      "cell_type": "code",
      "source": [
        "# 4. Rata rata nilai mata kuliah Kalkulus 1 untuk semua mahasiswa\n",
        "Rata_rata_nilai_matkul_kalkulus_All_mahasiswa= ((85 + 80+ 75+ 95+ 85+ 75+ 70+ 85+ 80)/9)\n",
        "print(Rata_rata_nilai_matkul_kalkulus_All_mahasiswa)"
      ],
      "metadata": {
        "id": "zqrYTgXgFxXN",
        "colab": {
          "base_uri": "https://localhost:8080/"
        },
        "outputId": "f306cc6a-3667-4b34-917b-3b5fe575dc8d"
      },
      "execution_count": 19,
      "outputs": [
        {
          "output_type": "stream",
          "name": "stdout",
          "text": [
            "81.11111111111111\n"
          ]
        }
      ]
    },
    {
      "cell_type": "code",
      "source": [
        "# 5. Rata-rata mata kuliah Metode statiska untuk semua mahasiswa\n",
        "Rata_rata_nilai_matkul_statiska_all_mahasiswa= ((75 +90 +80+ 80+ 85+ 90 + 75+ 85+ 75)/9)\n",
        "print(Rata_rata_nilai_matkul_statiska_all_mahasiswa)"
      ],
      "metadata": {
        "colab": {
          "base_uri": "https://localhost:8080/"
        },
        "id": "6NIV7gDqnIfR",
        "outputId": "cc4b8d5f-bfdc-48e8-c556-8ed484ea3e80"
      },
      "execution_count": 20,
      "outputs": [
        {
          "output_type": "stream",
          "name": "stdout",
          "text": [
            "81.66666666666667\n"
          ]
        }
      ]
    },
    {
      "cell_type": "markdown",
      "source": [
        "Weekly exercise 3"
      ],
      "metadata": {
        "id": "JbsBgcGJnN-b"
      }
    },
    {
      "cell_type": "code",
      "source": [
        "# gaji dwi\n",
        "gaji_dwi_per_jam = 30000\n",
        "#gaji dwi perhari\n",
        "gaji_dwi_perhari = Lama_jam_kerja_per_hari * gaji_dwi_per_jam\n",
        "#lama perhari\n",
        "Lama_jam_kerja_per_hari = 8\n",
        "#total jam kerja\n",
        "total_jam_kerja = jam_kerja_per_hari * hari_kerja\n",
        "#gaji  awal dwi\n",
        "gaji_awal = total_jam_kerja * gaji_per_jam\n",
        "#dwi tidak masuk kerja\n",
        "tidak_masuk_kerja = 3\n",
        "#lama hari dwi tidak masuk kerja\n",
        "Lama_hari_kerja = 23\n",
        "#tunjangan\n",
        "tunjangan = 0.10 * gaji_setelah_potongan\n",
        "#lembur\n",
        "lembur = 5\n",
        "#upah dari lembur\n",
        "upah_dari_lembur_per_jam = 10000\n",
        "#gaji akhir\n",
        "gaji_akhir = gaji_awal - (tidak_masuk_kerja * gaji_dwi_perhari )\n",
        "#gaji dari lembur\n",
        "gaji_dari_lembur = lembur * upah_lembur_per_jam\n",
        "#gaji total\n",
        "gaji_total = gaji_akhir+ tunjangan + gaji_dari_lembur\n",
        "#gaji tunjangan\n",
        "gaji_tunjangan = gaji_akhir * tunjangan\n",
        "\n",
        "print(\"Gaji jika tidak masuk kerja selama 3 hari : Rp\" , gaji_akhir)\n",
        "print(\"Tunjangan yang akan diterima : Rp\" , gaji_tunjangan)\n",
        "print(\"gaji total yang diterima dwi : Rp\" , gaji_total)"
      ],
      "metadata": {
        "colab": {
          "base_uri": "https://localhost:8080/"
        },
        "id": "hJW5L_XROMXH",
        "outputId": "53bb5b08-2a6b-42a3-bb14-890e016a17dd"
      },
      "execution_count": 13,
      "outputs": [
        {
          "output_type": "stream",
          "name": "stdout",
          "text": [
            "Gaji jika tidak masuk kerja selama 3 hari : Rp 3120000\n",
            "Tunjangan yang akan diterima : Rp 973440000000.0\n",
            "gaji total yang diterima dwi : Rp 3482000.0\n"
          ]
        }
      ]
    },
    {
      "cell_type": "code",
      "source": [],
      "metadata": {
        "id": "fIgbCLUAgM6h"
      },
      "execution_count": null,
      "outputs": []
    }
  ]
}