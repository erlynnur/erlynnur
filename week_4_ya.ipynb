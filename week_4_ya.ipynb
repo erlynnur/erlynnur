{
  "nbformat": 4,
  "nbformat_minor": 0,
  "metadata": {
    "colab": {
      "provenance": [],
      "authorship_tag": "ABX9TyNbben9zkl+rmKD95+40XkW",
      "include_colab_link": true
    },
    "kernelspec": {
      "name": "python3",
      "display_name": "Python 3"
    },
    "language_info": {
      "name": "python"
    }
  },
  "cells": [
    {
      "cell_type": "markdown",
      "metadata": {
        "id": "view-in-github",
        "colab_type": "text"
      },
      "source": [
        "<a href=\"https://colab.research.google.com/github/erlynnur/erlynnur/blob/main/week_4_ya.ipynb\" target=\"_parent\"><img src=\"https://colab.research.google.com/assets/colab-badge.svg\" alt=\"Open In Colab\"/></a>"
      ]
    },
    {
      "cell_type": "code",
      "source": [
        "# mari kita coba beri variabel a=8 dan menggunakan operator equal == lalu membandingkan variabel a tersebut dengan variabel 10.\n",
        "a = 8\n",
        "a == 10\n"
      ],
      "metadata": {
        "colab": {
          "base_uri": "https://localhost:8080/"
        },
        "id": "oRdp5mtzkim6",
        "outputId": "b4ac92f5-4f0e-41bc-f9d9-4e749b17cd0c"
      },
      "execution_count": null,
      "outputs": [
        {
          "output_type": "execute_result",
          "data": {
            "text/plain": [
              "False"
            ]
          },
          "metadata": {},
          "execution_count": 2
        }
      ]
    },
    {
      "cell_type": "code",
      "source": [
        "# mari mencoba dengan variabel di atas dengan operator yang berbeda\n",
        "i = 10\n",
        "i > 8"
      ],
      "metadata": {
        "colab": {
          "base_uri": "https://localhost:8080/"
        },
        "id": "Iyk7YOzKkijL",
        "outputId": "6bfa705f-0ffb-4a65-c238-02643b388590"
      },
      "execution_count": null,
      "outputs": [
        {
          "output_type": "execute_result",
          "data": {
            "text/plain": [
              "True"
            ]
          },
          "metadata": {},
          "execution_count": 4
        }
      ]
    },
    {
      "cell_type": "code",
      "source": [],
      "metadata": {
        "id": "6q_INromkoRX"
      },
      "execution_count": null,
      "outputs": []
    },
    {
      "cell_type": "code",
      "source": [],
      "metadata": {
        "id": "8Ij4HGLskoDB"
      },
      "execution_count": null,
      "outputs": []
    },
    {
      "cell_type": "code",
      "source": [],
      "metadata": {
        "id": "pj1qGk6ckiRa"
      },
      "execution_count": null,
      "outputs": []
    },
    {
      "cell_type": "markdown",
      "source": [
        "weekly 4 exercise 1"
      ],
      "metadata": {
        "id": "o0FBV8COi-lJ"
      }
    },
    {
      "cell_type": "code",
      "execution_count": 1,
      "metadata": {
        "colab": {
          "base_uri": "https://localhost:8080/"
        },
        "id": "EvHgcIqhYH88",
        "outputId": "4f7bc227-46e2-44ac-f5c1-627376ed4697"
      },
      "outputs": [
        {
          "output_type": "stream",
          "name": "stdout",
          "text": [
            "masukkan umur kalian : 16\n",
            "Tidak boleh buat SIM\n"
          ]
        }
      ],
      "source": [
        "#pertama masukkan umur kalian\n",
        "umur = int(input(\"masukkan umur kalian : \"))\n",
        "\n",
        "if umur >= 17:\n",
        "    print(\"Boleh membuat SIM\")\n",
        "else:\n",
        "    print(\"Tidak boleh buat SIM\")\n"
      ]
    },
    {
      "cell_type": "markdown",
      "source": [
        "weekly 4 exercise 2"
      ],
      "metadata": {
        "id": "kwxThz26jGda"
      }
    },
    {
      "cell_type": "code",
      "source": [
        "#mengintput nilai dengan int\n",
        "nilai = int(input(\"masukkan nilai kamu : \"))\n",
        "\n",
        "if nilai >= 90:\n",
        "      print(\"nilai kamu A\")\n",
        "elif nilai >= 80:\n",
        "      print(\"nilai kamu B+\")\n",
        "elif nilai >= 70:\n",
        "      print(\"nilai kamu B\")\n",
        "elif nilai >= 60:\n",
        "      print(\"nilai kamu C+\")\n",
        "elif nilai >= 50:\n",
        "      print(\"nilai kamu C\")\n",
        "elif nilai >= 40:\n",
        "      print(\"nilai kamu D\")\n",
        "else: print(\"nilai kamu E\")"
      ],
      "metadata": {
        "colab": {
          "base_uri": "https://localhost:8080/"
        },
        "id": "5Uq_WaC7YJ0-",
        "outputId": "3df5f498-b437-4c85-a080-a07ca5ea1738"
      },
      "execution_count": null,
      "outputs": [
        {
          "output_type": "stream",
          "name": "stdout",
          "text": [
            "masukkan nilai kamu : 90\n",
            "nilai kamu A\n"
          ]
        }
      ]
    },
    {
      "cell_type": "markdown",
      "source": [
        "weekly 4 exercise 3"
      ],
      "metadata": {
        "id": "WtAQ9cPgjIR_"
      }
    },
    {
      "cell_type": "code",
      "source": [
        "nilai = float(input(\"masukkan nilai kamu : \"))\n",
        "\n",
        "if nilai >= 80.00:\n",
        "  grade = \"A\"\n",
        "elif nilai >= 77.50:\n",
        "  grade = \"A-\"\n",
        "elif nilai >= 75.00:\n",
        "  grade = \"A/B\"\n",
        "elif nilai >= 72.50:\n",
        "  grade = \"B+\"\n",
        "elif nilai >= 70.00:\n",
        "  grade = \"B\"\n",
        "elif nilai >= 67.50:\n",
        "  grade = \"B-\"\n",
        "elif nilai >= 65.00:\n",
        "  grade = \"B/C\"\n",
        "elif nilai >= 62.50:\n",
        "  grade = \"C+\"\n",
        "elif nilai >= 60.00:\n",
        "  grade = \"C\"\n",
        "elif nilai >= 55.00:\n",
        "  grade = \"C-\"\n",
        "elif nilai >= 50.00:\n",
        "  grade = \"C/D\"\n",
        "elif nilai >= 45.00:\n",
        "  grade = \"D+\"\n",
        "elif nilai >= 40.00:\n",
        "  grade = \"D\"\n",
        "else:\n",
        "  grade = \"E\"\n",
        "print(\"Grade kamu adalah:\" , grade)"
      ],
      "metadata": {
        "colab": {
          "base_uri": "https://localhost:8080/"
        },
        "id": "J0tKGim6YWPR",
        "outputId": "f820d607-e208-4007-c391-1ec7f236be67"
      },
      "execution_count": 2,
      "outputs": [
        {
          "output_type": "stream",
          "name": "stdout",
          "text": [
            "masukkan nilai kamu : 80\n",
            "Grade kamu adalah: A\n"
          ]
        }
      ]
    },
    {
      "cell_type": "code",
      "source": [],
      "metadata": {
        "id": "ErKq0bnXYdpj"
      },
      "execution_count": null,
      "outputs": []
    }
  ]
}