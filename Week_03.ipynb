{
  "cells": [
    {
      "cell_type": "markdown",
      "metadata": {
        "id": "view-in-github",
        "colab_type": "text"
      },
      "source": [
        "<a href=\"https://colab.research.google.com/github/erlynnur/erlynnur/blob/main/Laprak_03_ex_2.ipynb\" target=\"_parent\"><img src=\"https://colab.research.google.com/assets/colab-badge.svg\" alt=\"Open In Colab\"/></a>"
      ]
    },
    {
      "cell_type": "markdown",
      "metadata": {
        "id": "ANWruJHCTJ8u"
      },
      "source": [
        "Weekly Exercise 2"
      ]
    },
    {
      "cell_type": "code",
      "execution_count": null,
      "metadata": {
        "colab": {
          "base_uri": "https://localhost:8080/"
        },
        "id": "bDnlHwZ2O6-i",
        "outputId": "efb6f9f1-7597-42f2-c925-89cfcfe38119"
      },
      "outputs": [
        {
          "name": "stdout",
          "output_type": "stream",
          "text": [
            "Selamat datang di Toko Maju Jaya\n",
            "Senin, 4 September 2023\n",
            "Pukul 13.05\n"
          ]
        }
      ],
      "source": [
        "print(\"Selamat datang di Toko Hore-Hore\")\n",
        "print(\"Senin, 4 September 2023\")\n",
        "print(\"Pukul 13.30\")"
      ]
    },
    {
      "cell_type": "code",
      "execution_count": 24,
      "metadata": {
        "colab": {
          "base_uri": "https://localhost:8080/"
        },
        "id": "06B3AkI1Txnx",
        "outputId": "60a081ea-f409-44e0-fbf8-6f4cbd2800fc"
      },
      "outputs": [
        {
          "output_type": "stream",
          "name": "stdout",
          "text": [
            "Selamat datang di Toko Hore-Hore\n",
            "Senin, 4 September 2023\n",
            "Pukul 13.30\n",
            " \n",
            "DAFTAR BELANJA:\n",
            "Sabun =   Rp 10000\n",
            "Shampo =     Rp 15000\n",
            "Mie Instant =   Rp 5000\n",
            "Detergen =     Rp 17500\n",
            "\n",
            "Total harga = Rp 47500\n",
            "total = Rp  47500\n"
          ]
        }
      ],
      "source": [
        "## <h3 id=\"WeeklyExercise2\">Weekly Exercise 2</h3>\n",
        "print(\"Selamat datang di Toko Hore-Hore\")\n",
        "print(\"Senin, 4 September 2023\")\n",
        "print(\"Pukul 13.30\")\n",
        "print(\" \")\n",
        "\n",
        "harga1 = 10000\n",
        "harga2 = 15000\n",
        "harga3 = 5000\n",
        "harga4 = 17500\n",
        "print(\"DAFTAR BELANJA:\")\n",
        "item1 = \"Sabun\"\n",
        "item2 = \"Shampo\"\n",
        "item3 = \"Mie Instant\"\n",
        "item4 = \"Detergen\"\n",
        "harga1 = 10000\n",
        "harga2 =  15000\n",
        "harga3 =  5000\n",
        "harga4 =  17500\n",
        "\n",
        "total_harga = harga1 + harga2 + harga3 + harga4\n",
        "\n",
        "print(item1, '=   Rp ' + str(harga1))\n",
        "print(item2, '=     Rp ' + str(harga2))\n",
        "print(item3, '=   Rp ' + str(harga3))\n",
        "print(item4, '=     Rp ' + str(harga4))\n",
        "print(\"\")\n",
        "print(\"Total harga = Rp \" + str(total_harga))\n",
        "\n",
        "total_harga = harga1 + harga2 + harga3 + harga4\n",
        "print(\"total = Rp \" , total_harga)\n",
        "\n",
        "with open(\"kuitansii hore.txt\", \"w\") as  testwritefile :\n",
        "  testwritefile.write(\"Selamat datang di Toko Hore-Hore\\n\")\n",
        "  testwritefile.write(\"kuitansi_4_September_2023\\n\")\n",
        "  testwritefile.write(\" \\n\")\n",
        "  testwritefile.write(item1 + \" = Rp \" + str(harga1) + \"\\n\")\n",
        "  testwritefile.write(item2 + \" = Rp \" + str(harga2) + \"\\n\")\n",
        "  testwritefile.write(item3 + \" = Rp \" + str(harga3) + \"\\n\")\n",
        "  testwritefile.write(item4 + \" = Rp \" + str(harga4) + \"\\n\")\n",
        "  testwritefile.write(\" \\n\")\n",
        "  testwritefile.write(\"Total belanja =\" + str(total_harga))\n",
        "\n",
        "\n"
      ]
    },
    {
      "cell_type": "code",
      "source": [],
      "metadata": {
        "id": "wUPwP-S7sJKY"
      },
      "execution_count": null,
      "outputs": []
    }
  ],
  "metadata": {
    "colab": {
      "provenance": [],
      "mount_file_id": "19O7O5n5LzQ_pBhGv58TmNkRR8lRadc6j",
      "authorship_tag": "ABX9TyOiaSRu1RNEs6yb4PkH4YJ2",
      "include_colab_link": true
    },
    "kernelspec": {
      "display_name": "Python 3",
      "name": "python3"
    },
    "language_info": {
      "name": "python"
    }
  },
  "nbformat": 4,
  "nbformat_minor": 0
}
